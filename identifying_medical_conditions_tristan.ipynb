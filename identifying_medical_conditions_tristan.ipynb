{
 "cells": [
  {
   "cell_type": "code",
   "execution_count": 1,
   "metadata": {
    "_cell_guid": "b1076dfc-b9ad-4769-8c92-a6c4dae69d19",
    "_uuid": "8f2839f25d086af736a60e9eeb907d3b93b6e0e5",
    "execution": {
     "iopub.execute_input": "2023-07-19T02:24:59.535757Z",
     "iopub.status.busy": "2023-07-19T02:24:59.534986Z",
     "iopub.status.idle": "2023-07-19T02:24:59.550855Z",
     "shell.execute_reply": "2023-07-19T02:24:59.549360Z",
     "shell.execute_reply.started": "2023-07-19T02:24:59.535708Z"
    }
   },
   "outputs": [],
   "source": [
    "# This Python 3 environment comes with many helpful analytics libraries installed\n",
    "# It is defined by the kaggle/python Docker image: https://github.com/kaggle/docker-python\n",
    "# For example, here's several helpful packages to load\n",
    "\n",
    "import numpy as np # linear algebra\n",
    "import pandas as pd # data processing, CSV file I/O (e.g. pd.read_csv)\n",
    "\n",
    "# Input data files are available in the read-only \"../input/\" directory\n",
    "# For example, running this (by clicking run or pressing Shift+Enter) will list all files under the input directory\n",
    "\n",
    "import os\n",
    "for dirname, _, filenames in os.walk('/kaggle/input'):\n",
    "    for filename in filenames:\n",
    "        print(os.path.join(dirname, filename))\n",
    "\n",
    "# You can write up to 20GB to the current directory (/kaggle/working/) that gets preserved as output when you create a version using \"Save & Run All\" \n",
    "# You can also write temporary files to /kaggle/temp/, but they won't be saved outside of the current session"
   ]
  },
  {
   "cell_type": "code",
   "execution_count": 2,
   "metadata": {
    "execution": {
     "iopub.execute_input": "2023-07-19T02:24:59.554614Z",
     "iopub.status.busy": "2023-07-19T02:24:59.553704Z",
     "iopub.status.idle": "2023-07-19T02:24:59.564003Z",
     "shell.execute_reply": "2023-07-19T02:24:59.562535Z",
     "shell.execute_reply.started": "2023-07-19T02:24:59.554567Z"
    }
   },
   "outputs": [],
   "source": [
    "import pandas as pd\n",
    "import numpy as np\n",
    "import statsmodels.api as sm\n",
    "from statsmodels.formula.api import ols\n",
    "from sklearn.linear_model import LinearRegression\n",
    "import matplotlib.pyplot as plt\n",
    "import sklearn as sklearn\n",
    "import seaborn as sns\n",
    "from sklearn.preprocessing import StandardScaler"
   ]
  },
  {
   "cell_type": "code",
   "execution_count": 3,
   "metadata": {
    "execution": {
     "iopub.execute_input": "2023-07-19T02:24:59.566728Z",
     "iopub.status.busy": "2023-07-19T02:24:59.565875Z",
     "iopub.status.idle": "2023-07-19T02:24:59.600213Z",
     "shell.execute_reply": "2023-07-19T02:24:59.598928Z",
     "shell.execute_reply.started": "2023-07-19T02:24:59.566682Z"
    }
   },
   "outputs": [],
   "source": [
    "df = pd.DataFrame()\n",
    "df = pd.read_csv('C:/Users/Omotola/Desktop/MMA 869/train.csv', header='infer')"
   ]
  },
  {
   "cell_type": "code",
   "execution_count": 4,
   "metadata": {
    "execution": {
     "iopub.execute_input": "2023-07-19T02:24:59.605213Z",
     "iopub.status.busy": "2023-07-19T02:24:59.604145Z",
     "iopub.status.idle": "2023-07-19T02:24:59.638525Z",
     "shell.execute_reply": "2023-07-19T02:24:59.636696Z",
     "shell.execute_reply.started": "2023-07-19T02:24:59.605161Z"
    }
   },
   "outputs": [
    {
     "data": {
      "text/html": [
       "<div>\n",
       "<style scoped>\n",
       "    .dataframe tbody tr th:only-of-type {\n",
       "        vertical-align: middle;\n",
       "    }\n",
       "\n",
       "    .dataframe tbody tr th {\n",
       "        vertical-align: top;\n",
       "    }\n",
       "\n",
       "    .dataframe thead th {\n",
       "        text-align: right;\n",
       "    }\n",
       "</style>\n",
       "<table border=\"1\" class=\"dataframe\">\n",
       "  <thead>\n",
       "    <tr style=\"text-align: right;\">\n",
       "      <th></th>\n",
       "      <th>Id</th>\n",
       "      <th>AB</th>\n",
       "      <th>AF</th>\n",
       "      <th>AH</th>\n",
       "      <th>AM</th>\n",
       "      <th>AR</th>\n",
       "      <th>AX</th>\n",
       "      <th>AY</th>\n",
       "      <th>AZ</th>\n",
       "      <th>BC</th>\n",
       "      <th>...</th>\n",
       "      <th>FL</th>\n",
       "      <th>FR</th>\n",
       "      <th>FS</th>\n",
       "      <th>GB</th>\n",
       "      <th>GE</th>\n",
       "      <th>GF</th>\n",
       "      <th>GH</th>\n",
       "      <th>GI</th>\n",
       "      <th>GL</th>\n",
       "      <th>Class</th>\n",
       "    </tr>\n",
       "  </thead>\n",
       "  <tbody>\n",
       "    <tr>\n",
       "      <th>0</th>\n",
       "      <td>000ff2bfdfe9</td>\n",
       "      <td>0.209377</td>\n",
       "      <td>3109.03329</td>\n",
       "      <td>85.200147</td>\n",
       "      <td>22.394407</td>\n",
       "      <td>8.138688</td>\n",
       "      <td>0.699861</td>\n",
       "      <td>0.025578</td>\n",
       "      <td>9.812214</td>\n",
       "      <td>5.555634</td>\n",
       "      <td>...</td>\n",
       "      <td>7.298162</td>\n",
       "      <td>1.73855</td>\n",
       "      <td>0.094822</td>\n",
       "      <td>11.339138</td>\n",
       "      <td>72.611063</td>\n",
       "      <td>2003.810319</td>\n",
       "      <td>22.136229</td>\n",
       "      <td>69.834944</td>\n",
       "      <td>0.120343</td>\n",
       "      <td>1</td>\n",
       "    </tr>\n",
       "    <tr>\n",
       "      <th>1</th>\n",
       "      <td>007255e47698</td>\n",
       "      <td>0.145282</td>\n",
       "      <td>978.76416</td>\n",
       "      <td>85.200147</td>\n",
       "      <td>36.968889</td>\n",
       "      <td>8.138688</td>\n",
       "      <td>3.632190</td>\n",
       "      <td>0.025578</td>\n",
       "      <td>13.517790</td>\n",
       "      <td>1.229900</td>\n",
       "      <td>...</td>\n",
       "      <td>0.173229</td>\n",
       "      <td>0.49706</td>\n",
       "      <td>0.568932</td>\n",
       "      <td>9.292698</td>\n",
       "      <td>72.611063</td>\n",
       "      <td>27981.562750</td>\n",
       "      <td>29.135430</td>\n",
       "      <td>32.131996</td>\n",
       "      <td>21.978000</td>\n",
       "      <td>0</td>\n",
       "    </tr>\n",
       "    <tr>\n",
       "      <th>2</th>\n",
       "      <td>013f2bd269f5</td>\n",
       "      <td>0.470030</td>\n",
       "      <td>2635.10654</td>\n",
       "      <td>85.200147</td>\n",
       "      <td>32.360553</td>\n",
       "      <td>8.138688</td>\n",
       "      <td>6.732840</td>\n",
       "      <td>0.025578</td>\n",
       "      <td>12.824570</td>\n",
       "      <td>1.229900</td>\n",
       "      <td>...</td>\n",
       "      <td>7.709560</td>\n",
       "      <td>0.97556</td>\n",
       "      <td>1.198821</td>\n",
       "      <td>37.077772</td>\n",
       "      <td>88.609437</td>\n",
       "      <td>13676.957810</td>\n",
       "      <td>28.022851</td>\n",
       "      <td>35.192676</td>\n",
       "      <td>0.196941</td>\n",
       "      <td>0</td>\n",
       "    </tr>\n",
       "    <tr>\n",
       "      <th>3</th>\n",
       "      <td>043ac50845d5</td>\n",
       "      <td>0.252107</td>\n",
       "      <td>3819.65177</td>\n",
       "      <td>120.201618</td>\n",
       "      <td>77.112203</td>\n",
       "      <td>8.138688</td>\n",
       "      <td>3.685344</td>\n",
       "      <td>0.025578</td>\n",
       "      <td>11.053708</td>\n",
       "      <td>1.229900</td>\n",
       "      <td>...</td>\n",
       "      <td>6.122162</td>\n",
       "      <td>0.49706</td>\n",
       "      <td>0.284466</td>\n",
       "      <td>18.529584</td>\n",
       "      <td>82.416803</td>\n",
       "      <td>2094.262452</td>\n",
       "      <td>39.948656</td>\n",
       "      <td>90.493248</td>\n",
       "      <td>0.155829</td>\n",
       "      <td>0</td>\n",
       "    </tr>\n",
       "    <tr>\n",
       "      <th>4</th>\n",
       "      <td>044fb8a146ec</td>\n",
       "      <td>0.380297</td>\n",
       "      <td>3733.04844</td>\n",
       "      <td>85.200147</td>\n",
       "      <td>14.103738</td>\n",
       "      <td>8.138688</td>\n",
       "      <td>3.942255</td>\n",
       "      <td>0.054810</td>\n",
       "      <td>3.396778</td>\n",
       "      <td>102.151980</td>\n",
       "      <td>...</td>\n",
       "      <td>8.153058</td>\n",
       "      <td>48.50134</td>\n",
       "      <td>0.121914</td>\n",
       "      <td>16.408728</td>\n",
       "      <td>146.109943</td>\n",
       "      <td>8524.370502</td>\n",
       "      <td>45.381316</td>\n",
       "      <td>36.262628</td>\n",
       "      <td>0.096614</td>\n",
       "      <td>1</td>\n",
       "    </tr>\n",
       "  </tbody>\n",
       "</table>\n",
       "<p>5 rows × 58 columns</p>\n",
       "</div>"
      ],
      "text/plain": [
       "             Id        AB          AF          AH         AM        AR  \\\n",
       "0  000ff2bfdfe9  0.209377  3109.03329   85.200147  22.394407  8.138688   \n",
       "1  007255e47698  0.145282   978.76416   85.200147  36.968889  8.138688   \n",
       "2  013f2bd269f5  0.470030  2635.10654   85.200147  32.360553  8.138688   \n",
       "3  043ac50845d5  0.252107  3819.65177  120.201618  77.112203  8.138688   \n",
       "4  044fb8a146ec  0.380297  3733.04844   85.200147  14.103738  8.138688   \n",
       "\n",
       "         AX        AY         AZ          BC  ...        FL        FR  \\\n",
       "0  0.699861  0.025578   9.812214    5.555634  ...  7.298162   1.73855   \n",
       "1  3.632190  0.025578  13.517790    1.229900  ...  0.173229   0.49706   \n",
       "2  6.732840  0.025578  12.824570    1.229900  ...  7.709560   0.97556   \n",
       "3  3.685344  0.025578  11.053708    1.229900  ...  6.122162   0.49706   \n",
       "4  3.942255  0.054810   3.396778  102.151980  ...  8.153058  48.50134   \n",
       "\n",
       "         FS         GB          GE            GF         GH         GI  \\\n",
       "0  0.094822  11.339138   72.611063   2003.810319  22.136229  69.834944   \n",
       "1  0.568932   9.292698   72.611063  27981.562750  29.135430  32.131996   \n",
       "2  1.198821  37.077772   88.609437  13676.957810  28.022851  35.192676   \n",
       "3  0.284466  18.529584   82.416803   2094.262452  39.948656  90.493248   \n",
       "4  0.121914  16.408728  146.109943   8524.370502  45.381316  36.262628   \n",
       "\n",
       "          GL  Class  \n",
       "0   0.120343      1  \n",
       "1  21.978000      0  \n",
       "2   0.196941      0  \n",
       "3   0.155829      0  \n",
       "4   0.096614      1  \n",
       "\n",
       "[5 rows x 58 columns]"
      ]
     },
     "execution_count": 4,
     "metadata": {},
     "output_type": "execute_result"
    }
   ],
   "source": [
    "df.head()"
   ]
  },
  {
   "cell_type": "code",
   "execution_count": 5,
   "metadata": {
    "execution": {
     "iopub.execute_input": "2023-07-19T02:24:59.641577Z",
     "iopub.status.busy": "2023-07-19T02:24:59.641042Z",
     "iopub.status.idle": "2023-07-19T02:24:59.670080Z",
     "shell.execute_reply": "2023-07-19T02:24:59.668348Z",
     "shell.execute_reply.started": "2023-07-19T02:24:59.641526Z"
    }
   },
   "outputs": [
    {
     "name": "stdout",
     "output_type": "stream",
     "text": [
      "<class 'pandas.core.frame.DataFrame'>\n",
      "RangeIndex: 617 entries, 0 to 616\n",
      "Data columns (total 59 columns):\n",
      " #   Column  Non-Null Count  Dtype  \n",
      "---  ------  --------------  -----  \n",
      " 0   Id      617 non-null    object \n",
      " 1   AB      617 non-null    float64\n",
      " 2   AF      617 non-null    float64\n",
      " 3   AH      617 non-null    float64\n",
      " 4   AM      617 non-null    float64\n",
      " 5   AR      617 non-null    float64\n",
      " 6   AX      617 non-null    float64\n",
      " 7   AY      617 non-null    float64\n",
      " 8   AZ      617 non-null    float64\n",
      " 9   BC      617 non-null    float64\n",
      " 10  BD      617 non-null    float64\n",
      " 11  BN      617 non-null    float64\n",
      " 12  BP      617 non-null    float64\n",
      " 13  BQ      557 non-null    float64\n",
      " 14  BR      617 non-null    float64\n",
      " 15  BZ      617 non-null    float64\n",
      " 16  CB      615 non-null    float64\n",
      " 17  CC      614 non-null    float64\n",
      " 18  CD      617 non-null    float64\n",
      " 19  CF      617 non-null    float64\n",
      " 20  CH      617 non-null    float64\n",
      " 21  CL      617 non-null    float64\n",
      " 22  CR      617 non-null    float64\n",
      " 23  CS      617 non-null    float64\n",
      " 24  CU      617 non-null    float64\n",
      " 25  CW      617 non-null    float64\n",
      " 26  DA      617 non-null    float64\n",
      " 27  DE      617 non-null    float64\n",
      " 28  DF      617 non-null    float64\n",
      " 29  DH      617 non-null    float64\n",
      " 30  DI      617 non-null    float64\n",
      " 31  DL      617 non-null    float64\n",
      " 32  DN      617 non-null    float64\n",
      " 33  DU      616 non-null    float64\n",
      " 34  DV      617 non-null    float64\n",
      " 35  DY      617 non-null    float64\n",
      " 36  EB      617 non-null    float64\n",
      " 37  EE      617 non-null    float64\n",
      " 38  EG      617 non-null    float64\n",
      " 39  EH      617 non-null    float64\n",
      " 40  EL      557 non-null    float64\n",
      " 41  EP      617 non-null    float64\n",
      " 42  EU      617 non-null    float64\n",
      " 43  FC      616 non-null    float64\n",
      " 44  FD      617 non-null    float64\n",
      " 45  FE      617 non-null    float64\n",
      " 46  FI      617 non-null    float64\n",
      " 47  FL      616 non-null    float64\n",
      " 48  FR      617 non-null    float64\n",
      " 49  FS      615 non-null    float64\n",
      " 50  GB      617 non-null    float64\n",
      " 51  GE      617 non-null    float64\n",
      " 52  GF      617 non-null    float64\n",
      " 53  GH      617 non-null    float64\n",
      " 54  GI      617 non-null    float64\n",
      " 55  GL      616 non-null    float64\n",
      " 56  Class   617 non-null    int64  \n",
      " 57  EJ_A    617 non-null    int32  \n",
      " 58  EJ_B    617 non-null    int32  \n",
      "dtypes: float64(55), int32(2), int64(1), object(1)\n",
      "memory usage: 279.7+ KB\n"
     ]
    }
   ],
   "source": [
    "df['EJ_A'] = np.where(df['EJ'] == 'A',1,0)\n",
    "df['EJ_B'] = np.where(df['EJ'] == 'B',1,0)\n",
    "df = df.drop(['EJ'],axis=1)\n",
    "df.info()"
   ]
  },
  {
   "cell_type": "code",
   "execution_count": 6,
   "metadata": {
    "execution": {
     "iopub.execute_input": "2023-07-19T02:24:59.672925Z",
     "iopub.status.busy": "2023-07-19T02:24:59.672469Z",
     "iopub.status.idle": "2023-07-19T02:24:59.699703Z",
     "shell.execute_reply": "2023-07-19T02:24:59.697469Z",
     "shell.execute_reply.started": "2023-07-19T02:24:59.672888Z"
    }
   },
   "outputs": [
    {
     "data": {
      "text/plain": [
       "pandas.core.series.Series"
      ]
     },
     "execution_count": 6,
     "metadata": {},
     "output_type": "execute_result"
    }
   ],
   "source": [
    "from sklearn.model_selection import train_test_split\n",
    "\n",
    "X = df.drop(['Class'],axis=1)\n",
    "y = df['Class']\n",
    "\n",
    "X_train, X_test, y_train, y_test = train_test_split(X, y, test_size=0.2, random_state=42)\n",
    "\n",
    "type(X_train)\n",
    "type(y_train)"
   ]
  },
  {
   "cell_type": "code",
   "execution_count": 7,
   "metadata": {
    "execution": {
     "iopub.execute_input": "2023-07-19T02:24:59.702843Z",
     "iopub.status.busy": "2023-07-19T02:24:59.701995Z",
     "iopub.status.idle": "2023-07-19T02:25:00.298395Z",
     "shell.execute_reply": "2023-07-19T02:25:00.297329Z",
     "shell.execute_reply.started": "2023-07-19T02:24:59.702804Z"
    }
   },
   "outputs": [],
   "source": [
    "from sklearn.impute import SimpleImputer\n",
    "imputer = SimpleImputer(strategy=\"mean\")\n",
    "\n",
    "X_train.set_index('Id')\n",
    "X_test.set_index('Id')\n",
    "X_train = X_train.drop('Id',axis=1)\n",
    "X_test = X_test.drop('Id',axis=1)\n",
    "\n",
    "for x in X_train.columns:\n",
    "    imputer = imputer.fit(X_train[[x]])\n",
    "    X_train[x + \"_Imputed\"] = imputer.transform(X_train[[x]])\n",
    "    X_train = X_train.drop([x],axis=1)\n",
    "\n",
    "    X_test[x + \"_Imputed\"] = imputer.transform(X_test[[x]])\n",
    "    X_test = X_test.drop([x],axis=1)"
   ]
  },
  {
   "cell_type": "code",
   "execution_count": null,
   "metadata": {},
   "outputs": [],
   "source": []
  },
  {
   "cell_type": "code",
   "execution_count": null,
   "metadata": {},
   "outputs": [],
   "source": []
  },
  {
   "cell_type": "code",
   "execution_count": 8,
   "metadata": {
    "execution": {
     "iopub.execute_input": "2023-07-19T02:25:00.300421Z",
     "iopub.status.busy": "2023-07-19T02:25:00.299836Z",
     "iopub.status.idle": "2023-07-19T02:25:00.319972Z",
     "shell.execute_reply": "2023-07-19T02:25:00.318455Z",
     "shell.execute_reply.started": "2023-07-19T02:25:00.300387Z"
    }
   },
   "outputs": [
    {
     "name": "stdout",
     "output_type": "stream",
     "text": [
      "<class 'pandas.core.frame.DataFrame'>\n",
      "Int64Index: 124 entries, 49 to 181\n",
      "Data columns (total 57 columns):\n",
      " #   Column        Non-Null Count  Dtype  \n",
      "---  ------        --------------  -----  \n",
      " 0   AB_Imputed    124 non-null    float64\n",
      " 1   AF_Imputed    124 non-null    float64\n",
      " 2   AH_Imputed    124 non-null    float64\n",
      " 3   AM_Imputed    124 non-null    float64\n",
      " 4   AR_Imputed    124 non-null    float64\n",
      " 5   AX_Imputed    124 non-null    float64\n",
      " 6   AY_Imputed    124 non-null    float64\n",
      " 7   AZ_Imputed    124 non-null    float64\n",
      " 8   BC_Imputed    124 non-null    float64\n",
      " 9   BD _Imputed   124 non-null    float64\n",
      " 10  BN_Imputed    124 non-null    float64\n",
      " 11  BP_Imputed    124 non-null    float64\n",
      " 12  BQ_Imputed    124 non-null    float64\n",
      " 13  BR_Imputed    124 non-null    float64\n",
      " 14  BZ_Imputed    124 non-null    float64\n",
      " 15  CB_Imputed    124 non-null    float64\n",
      " 16  CC_Imputed    124 non-null    float64\n",
      " 17  CD _Imputed   124 non-null    float64\n",
      " 18  CF_Imputed    124 non-null    float64\n",
      " 19  CH_Imputed    124 non-null    float64\n",
      " 20  CL_Imputed    124 non-null    float64\n",
      " 21  CR_Imputed    124 non-null    float64\n",
      " 22  CS_Imputed    124 non-null    float64\n",
      " 23  CU_Imputed    124 non-null    float64\n",
      " 24  CW _Imputed   124 non-null    float64\n",
      " 25  DA_Imputed    124 non-null    float64\n",
      " 26  DE_Imputed    124 non-null    float64\n",
      " 27  DF_Imputed    124 non-null    float64\n",
      " 28  DH_Imputed    124 non-null    float64\n",
      " 29  DI_Imputed    124 non-null    float64\n",
      " 30  DL_Imputed    124 non-null    float64\n",
      " 31  DN_Imputed    124 non-null    float64\n",
      " 32  DU_Imputed    124 non-null    float64\n",
      " 33  DV_Imputed    124 non-null    float64\n",
      " 34  DY_Imputed    124 non-null    float64\n",
      " 35  EB_Imputed    124 non-null    float64\n",
      " 36  EE_Imputed    124 non-null    float64\n",
      " 37  EG_Imputed    124 non-null    float64\n",
      " 38  EH_Imputed    124 non-null    float64\n",
      " 39  EL_Imputed    124 non-null    float64\n",
      " 40  EP_Imputed    124 non-null    float64\n",
      " 41  EU_Imputed    124 non-null    float64\n",
      " 42  FC_Imputed    124 non-null    float64\n",
      " 43  FD _Imputed   124 non-null    float64\n",
      " 44  FE_Imputed    124 non-null    float64\n",
      " 45  FI_Imputed    124 non-null    float64\n",
      " 46  FL_Imputed    124 non-null    float64\n",
      " 47  FR_Imputed    124 non-null    float64\n",
      " 48  FS_Imputed    124 non-null    float64\n",
      " 49  GB_Imputed    124 non-null    float64\n",
      " 50  GE_Imputed    124 non-null    float64\n",
      " 51  GF_Imputed    124 non-null    float64\n",
      " 52  GH_Imputed    124 non-null    float64\n",
      " 53  GI_Imputed    124 non-null    float64\n",
      " 54  GL_Imputed    124 non-null    float64\n",
      " 55  EJ_A_Imputed  124 non-null    float64\n",
      " 56  EJ_B_Imputed  124 non-null    float64\n",
      "dtypes: float64(57)\n",
      "memory usage: 56.2 KB\n"
     ]
    }
   ],
   "source": [
    "X_test.info()"
   ]
  },
  {
   "cell_type": "code",
   "execution_count": 9,
   "metadata": {
    "execution": {
     "iopub.execute_input": "2023-07-19T02:25:00.323067Z",
     "iopub.status.busy": "2023-07-19T02:25:00.322537Z",
     "iopub.status.idle": "2023-07-19T02:25:00.336844Z",
     "shell.execute_reply": "2023-07-19T02:25:00.335523Z",
     "shell.execute_reply.started": "2023-07-19T02:25:00.323021Z"
    }
   },
   "outputs": [],
   "source": [
    "# Model 1: Decision Tree"
   ]
  },
  {
   "cell_type": "code",
   "execution_count": 10,
   "metadata": {
    "execution": {
     "iopub.execute_input": "2023-07-19T02:25:00.341647Z",
     "iopub.status.busy": "2023-07-19T02:25:00.340941Z",
     "iopub.status.idle": "2023-07-19T02:25:00.374122Z",
     "shell.execute_reply": "2023-07-19T02:25:00.372554Z",
     "shell.execute_reply.started": "2023-07-19T02:25:00.341606Z"
    }
   },
   "outputs": [],
   "source": [
    "from sklearn.tree import DecisionTreeClassifier\n",
    "\n",
    "clf = DecisionTreeClassifier(random_state=42, criterion=\"entropy\",\n",
    "                             min_samples_split=10, min_samples_leaf=10, max_depth=3, max_leaf_nodes=5)\n",
    "clf.fit(X_train, y_train)\n",
    "\n",
    "y_pred_dt = clf.predict(X_test)"
   ]
  },
  {
   "cell_type": "code",
   "execution_count": 11,
   "metadata": {
    "execution": {
     "iopub.execute_input": "2023-07-19T02:25:00.376740Z",
     "iopub.status.busy": "2023-07-19T02:25:00.375802Z",
     "iopub.status.idle": "2023-07-19T02:25:00.382036Z",
     "shell.execute_reply": "2023-07-19T02:25:00.380801Z",
     "shell.execute_reply.started": "2023-07-19T02:25:00.376696Z"
    }
   },
   "outputs": [],
   "source": [
    "class_names = [str(x) for x in clf.classes_]"
   ]
  },
  {
   "cell_type": "code",
   "execution_count": 12,
   "metadata": {
    "execution": {
     "iopub.execute_input": "2023-07-19T02:25:00.385367Z",
     "iopub.status.busy": "2023-07-19T02:25:00.384570Z",
     "iopub.status.idle": "2023-07-19T02:25:00.400936Z",
     "shell.execute_reply": "2023-07-19T02:25:00.399038Z",
     "shell.execute_reply.started": "2023-07-19T02:25:00.385326Z"
    }
   },
   "outputs": [
    {
     "name": "stdout",
     "output_type": "stream",
     "text": [
      "9\n",
      "[0.66319684 0.45298117 0.954434   0.14144054 0.8567986  0.79732651\n",
      " 0.55862937 0.         0.43055187]\n",
      "[ 1  3 -1  7  5 -1 -1 -1 -1]\n",
      "[ 2.28980398  0.49780449 -2.          1.47189504 29.32503986 -2.\n",
      " -2.         -2.         -2.        ]\n"
     ]
    }
   ],
   "source": [
    "print(clf.tree_.node_count)\n",
    "print(clf.tree_.impurity)\n",
    "print(clf.tree_.children_left)\n",
    "print(clf.tree_.threshold)"
   ]
  },
  {
   "cell_type": "code",
   "execution_count": 13,
   "metadata": {
    "execution": {
     "iopub.execute_input": "2023-07-19T02:25:00.403310Z",
     "iopub.status.busy": "2023-07-19T02:25:00.402658Z",
     "iopub.status.idle": "2023-07-19T02:25:00.421235Z",
     "shell.execute_reply": "2023-07-19T02:25:00.419846Z",
     "shell.execute_reply.started": "2023-07-19T02:25:00.403270Z"
    }
   },
   "outputs": [
    {
     "data": {
      "text/plain": [
       "array([[90, 11],\n",
       "       [ 5, 18]], dtype=int64)"
      ]
     },
     "execution_count": 13,
     "metadata": {},
     "output_type": "execute_result"
    }
   ],
   "source": [
    "from sklearn.metrics import confusion_matrix\n",
    "\n",
    "confusion_matrix(y_test, y_pred_dt)"
   ]
  },
  {
   "cell_type": "code",
   "execution_count": 14,
   "metadata": {
    "execution": {
     "iopub.execute_input": "2023-07-19T02:25:00.424521Z",
     "iopub.status.busy": "2023-07-19T02:25:00.423890Z",
     "iopub.status.idle": "2023-07-19T02:25:00.442672Z",
     "shell.execute_reply": "2023-07-19T02:25:00.441309Z",
     "shell.execute_reply.started": "2023-07-19T02:25:00.424434Z"
    }
   },
   "outputs": [
    {
     "name": "stdout",
     "output_type": "stream",
     "text": [
      "              precision    recall  f1-score   support\n",
      "\n",
      "           0       0.95      0.89      0.92       101\n",
      "           1       0.62      0.78      0.69        23\n",
      "\n",
      "    accuracy                           0.87       124\n",
      "   macro avg       0.78      0.84      0.81       124\n",
      "weighted avg       0.89      0.87      0.88       124\n",
      "\n"
     ]
    }
   ],
   "source": [
    "from sklearn.metrics import classification_report\n",
    "\n",
    "print(classification_report(y_test, y_pred_dt, target_names=class_names))"
   ]
  },
  {
   "cell_type": "code",
   "execution_count": 15,
   "metadata": {
    "execution": {
     "iopub.execute_input": "2023-07-19T02:25:00.445494Z",
     "iopub.status.busy": "2023-07-19T02:25:00.444117Z",
     "iopub.status.idle": "2023-07-19T02:25:00.463383Z",
     "shell.execute_reply": "2023-07-19T02:25:00.461831Z",
     "shell.execute_reply.started": "2023-07-19T02:25:00.445418Z"
    }
   },
   "outputs": [
    {
     "name": "stdout",
     "output_type": "stream",
     "text": [
      "Accuracy = 0.87\n",
      "Kappa = 0.61\n",
      "F1 Score = 0.69\n",
      "Log Loss = 4.46\n"
     ]
    }
   ],
   "source": [
    "from sklearn.metrics import accuracy_score, cohen_kappa_score, f1_score, log_loss\n",
    "\n",
    "print(\"Accuracy = {:.2f}\".format(accuracy_score(y_test, y_pred_dt)))\n",
    "print(\"Kappa = {:.2f}\".format(cohen_kappa_score(y_test, y_pred_dt)))\n",
    "print(\"F1 Score = {:.2f}\".format(f1_score(y_test, y_pred_dt)))\n",
    "print(\"Log Loss = {:.2f}\".format(log_loss(y_test, y_pred_dt)))"
   ]
  },
  {
   "cell_type": "code",
   "execution_count": 16,
   "metadata": {
    "execution": {
     "iopub.execute_input": "2023-07-19T02:25:00.466834Z",
     "iopub.status.busy": "2023-07-19T02:25:00.465601Z",
     "iopub.status.idle": "2023-07-19T02:25:00.473950Z",
     "shell.execute_reply": "2023-07-19T02:25:00.472530Z",
     "shell.execute_reply.started": "2023-07-19T02:25:00.466786Z"
    }
   },
   "outputs": [],
   "source": [
    "# Model 2: Random Forest (Bagging)"
   ]
  },
  {
   "cell_type": "code",
   "execution_count": 17,
   "metadata": {
    "execution": {
     "iopub.execute_input": "2023-07-19T02:25:00.476526Z",
     "iopub.status.busy": "2023-07-19T02:25:00.475668Z",
     "iopub.status.idle": "2023-07-19T02:25:00.923708Z",
     "shell.execute_reply": "2023-07-19T02:25:00.922521Z",
     "shell.execute_reply.started": "2023-07-19T02:25:00.476469Z"
    }
   },
   "outputs": [
    {
     "data": {
      "text/plain": [
       "RandomForestClassifier(random_state=0)"
      ]
     },
     "execution_count": 17,
     "metadata": {},
     "output_type": "execute_result"
    }
   ],
   "source": [
    "from sklearn.ensemble import RandomForestClassifier\n",
    "\n",
    "clf_rf = RandomForestClassifier(\n",
    "    n_estimators=100,\n",
    "    max_depth=None,\n",
    "    min_samples_split=2,\n",
    "    random_state=0)\n",
    "\n",
    "clf_rf.fit(X_train, y_train)"
   ]
  },
  {
   "cell_type": "code",
   "execution_count": 18,
   "metadata": {
    "execution": {
     "iopub.execute_input": "2023-07-19T02:25:00.925403Z",
     "iopub.status.busy": "2023-07-19T02:25:00.925075Z",
     "iopub.status.idle": "2023-07-19T02:25:00.948481Z",
     "shell.execute_reply": "2023-07-19T02:25:00.947420Z",
     "shell.execute_reply.started": "2023-07-19T02:25:00.925374Z"
    }
   },
   "outputs": [],
   "source": [
    "y_pred_dt = clf_rf.predict(X_test)"
   ]
  },
  {
   "cell_type": "code",
   "execution_count": 19,
   "metadata": {
    "execution": {
     "iopub.execute_input": "2023-07-19T02:25:00.950450Z",
     "iopub.status.busy": "2023-07-19T02:25:00.950012Z",
     "iopub.status.idle": "2023-07-19T02:25:00.965295Z",
     "shell.execute_reply": "2023-07-19T02:25:00.963915Z",
     "shell.execute_reply.started": "2023-07-19T02:25:00.950408Z"
    }
   },
   "outputs": [
    {
     "data": {
      "text/plain": [
       "array([[101,   0],\n",
       "       [  7,  16]], dtype=int64)"
      ]
     },
     "execution_count": 19,
     "metadata": {},
     "output_type": "execute_result"
    }
   ],
   "source": [
    "from sklearn.metrics import confusion_matrix\n",
    "\n",
    "confusion_matrix(y_test, y_pred_dt)"
   ]
  },
  {
   "cell_type": "code",
   "execution_count": 20,
   "metadata": {
    "execution": {
     "iopub.execute_input": "2023-07-19T02:25:00.967242Z",
     "iopub.status.busy": "2023-07-19T02:25:00.966885Z",
     "iopub.status.idle": "2023-07-19T02:25:00.985196Z",
     "shell.execute_reply": "2023-07-19T02:25:00.983720Z",
     "shell.execute_reply.started": "2023-07-19T02:25:00.967212Z"
    }
   },
   "outputs": [
    {
     "name": "stdout",
     "output_type": "stream",
     "text": [
      "Accuracy = 0.94\n",
      "Kappa = 0.79\n",
      "F1 Score = 0.82\n",
      "Log Loss = 1.95\n"
     ]
    }
   ],
   "source": [
    "from sklearn.metrics import accuracy_score, cohen_kappa_score, f1_score, log_loss\n",
    "\n",
    "print(\"Accuracy = {:.2f}\".format(accuracy_score(y_test, y_pred_dt)))\n",
    "print(\"Kappa = {:.2f}\".format(cohen_kappa_score(y_test, y_pred_dt)))\n",
    "print(\"F1 Score = {:.2f}\".format(f1_score(y_test, y_pred_dt)))\n",
    "print(\"Log Loss = {:.2f}\".format(log_loss(y_test, y_pred_dt)))"
   ]
  },
  {
   "cell_type": "code",
   "execution_count": 21,
   "metadata": {
    "execution": {
     "iopub.execute_input": "2023-07-19T02:25:00.988945Z",
     "iopub.status.busy": "2023-07-19T02:25:00.987670Z",
     "iopub.status.idle": "2023-07-19T02:25:01.000912Z",
     "shell.execute_reply": "2023-07-19T02:25:00.998997Z",
     "shell.execute_reply.started": "2023-07-19T02:25:00.988897Z"
    }
   },
   "outputs": [],
   "source": [
    "import time"
   ]
  },
  {
   "cell_type": "code",
   "execution_count": 22,
   "metadata": {
    "execution": {
     "iopub.execute_input": "2023-07-19T02:25:01.004113Z",
     "iopub.status.busy": "2023-07-19T02:25:01.003188Z",
     "iopub.status.idle": "2023-07-19T02:25:01.022024Z",
     "shell.execute_reply": "2023-07-19T02:25:01.020342Z",
     "shell.execute_reply.started": "2023-07-19T02:25:01.004052Z"
    }
   },
   "outputs": [],
   "source": [
    "# Model 3: LightGBM"
   ]
  },
  {
   "cell_type": "code",
   "execution_count": 23,
   "metadata": {
    "execution": {
     "iopub.execute_input": "2023-07-19T02:25:01.024305Z",
     "iopub.status.busy": "2023-07-19T02:25:01.023810Z",
     "iopub.status.idle": "2023-07-19T02:25:17.721119Z",
     "shell.execute_reply": "2023-07-19T02:25:17.719704Z",
     "shell.execute_reply.started": "2023-07-19T02:25:01.024253Z"
    }
   },
   "outputs": [
    {
     "name": "stdout",
     "output_type": "stream",
     "text": [
      "CV Scores:\n",
      "['1.0000', '0.9877', '0.9321', '0.9691', '1.0000', '0.9506', '0.9321', '0.9568', '0.8333', '0.9815', '0.9214', '1.0000', '0.9286', '1.0000', '0.8667']\n",
      "CV Score mean: 0.9507 \n",
      "CV Score range: 0.9022 -- 0.9992\n",
      "Fit times: 21.089874029159546\n",
      "Total duration: 21.089874029159546\n"
     ]
    }
   ],
   "source": [
    "from lightgbm import LGBMClassifier\n",
    "from sklearn.model_selection import cross_validate\n",
    "\n",
    "# Split the dataframe into X (features) and y (target, aka, label).\n",
    "X = X_train\n",
    "y = y_train\n",
    "\n",
    "params = {\n",
    "      \"cat_l2\": 10,\n",
    "      \"cat_smooth\": 10,\n",
    "      \"colsample_bytree\": 0.8,\n",
    "      \"feature_fraction_bynode\":  0.8,\n",
    "      \"learning_rate\": 0.03,\n",
    "      \"max_depth\": 6,\n",
    "      \"min_child_samples\": 63,\n",
    "      \"min_data_per_group\": 100,\n",
    "      \"n_estimators\": 200,\n",
    "      \"num_leaves\": 63,\n",
    "      \"path_smooth\": 0,\n",
    "      \"reg_alpha\":  0.05,\n",
    "      \"reg_lambda\": 0.05,\n",
    "      \"subsample_freq\": 1,\n",
    "      \"subsample\": 0.8,\n",
    "      \"max_bin\": 127,\n",
    "      \"extra_trees\": False,\n",
    "      \"is_unbalance\": True,\n",
    "      \"boosting_type\": 'gbdt',\n",
    "      \"n_jobs\": 1,\n",
    "      \"verbosity\": -1,\n",
    "      \"seed\": 77,\n",
    "}\n",
    "        \n",
    "fit_params= {\n",
    "    'feature_name': \"auto\",\n",
    "}\n",
    "\n",
    "start = time.time()\n",
    "estimator = LGBMClassifier(**params)\n",
    "\n",
    "# The more CV, the better our estimate of the score\n",
    "inner_cv_scores = cross_validate(estimator, X, y, \n",
    "                                 fit_params=fit_params, \n",
    "                                 cv=15, \n",
    "                                 scoring=\"roc_auc\", \n",
    "                                 n_jobs=5, \n",
    "                                 verbose=0, \n",
    "                                 return_train_score=True)\n",
    "cv_scores=inner_cv_scores['test_score'].tolist()\n",
    "duration = time.time() - start\n",
    "\n",
    "print(\"CV Scores:\")\n",
    "print([\"{:0.4f}\".format(cv_score) for cv_score in cv_scores])\n",
    "print(\"CV Score mean: {:.4f} \".format(np.mean(cv_scores)))\n",
    "print(\"CV Score range: {:0.4f} -- {:0.4f}\".format(np.mean(cv_scores) - np.std(cv_scores), np.mean(cv_scores) + np.std(cv_scores)))\n",
    "print(\"Fit times: {}\".format(duration))\n",
    "print(\"Total duration: {}\".format(duration))"
   ]
  },
  {
   "cell_type": "code",
   "execution_count": 24,
   "metadata": {
    "execution": {
     "iopub.execute_input": "2023-07-19T02:25:17.724336Z",
     "iopub.status.busy": "2023-07-19T02:25:17.723805Z",
     "iopub.status.idle": "2023-07-19T02:25:17.873329Z",
     "shell.execute_reply": "2023-07-19T02:25:17.871668Z",
     "shell.execute_reply.started": "2023-07-19T02:25:17.724286Z"
    }
   },
   "outputs": [],
   "source": [
    "# Of course, at this point, once you've found the best parameters etc., you would retrain the model on the full dataset:\n",
    "estimator = LGBMClassifier(**params)\n",
    "estimator = estimator.fit(X, y, **fit_params)"
   ]
  },
  {
   "cell_type": "code",
   "execution_count": 25,
   "metadata": {
    "execution": {
     "iopub.execute_input": "2023-07-19T02:25:17.883165Z",
     "iopub.status.busy": "2023-07-19T02:25:17.882651Z",
     "iopub.status.idle": "2023-07-19T02:25:17.892949Z",
     "shell.execute_reply": "2023-07-19T02:25:17.891442Z",
     "shell.execute_reply.started": "2023-07-19T02:25:17.883131Z"
    }
   },
   "outputs": [],
   "source": [
    "y_pred = estimator.predict(X_test)"
   ]
  },
  {
   "cell_type": "code",
   "execution_count": 26,
   "metadata": {
    "execution": {
     "iopub.execute_input": "2023-07-19T02:25:17.895608Z",
     "iopub.status.busy": "2023-07-19T02:25:17.895112Z",
     "iopub.status.idle": "2023-07-19T02:25:17.914139Z",
     "shell.execute_reply": "2023-07-19T02:25:17.912750Z",
     "shell.execute_reply.started": "2023-07-19T02:25:17.895562Z"
    }
   },
   "outputs": [
    {
     "name": "stdout",
     "output_type": "stream",
     "text": [
      "Accuracy = 0.94\n",
      "Kappa = 0.82\n",
      "F1 Score = 0.86\n",
      "Log Loss = 1.95\n"
     ]
    }
   ],
   "source": [
    "print(\"Accuracy = {:.2f}\".format(accuracy_score(y_test, y_pred)))\n",
    "print(\"Kappa = {:.2f}\".format(cohen_kappa_score(y_test, y_pred)))\n",
    "print(\"F1 Score = {:.2f}\".format(f1_score(y_test, y_pred)))\n",
    "print(\"Log Loss = {:.2f}\".format(log_loss(y_test, y_pred)))"
   ]
  },
  {
   "cell_type": "code",
   "execution_count": 27,
   "metadata": {
    "execution": {
     "iopub.execute_input": "2023-07-19T02:25:17.916245Z",
     "iopub.status.busy": "2023-07-19T02:25:17.915848Z",
     "iopub.status.idle": "2023-07-19T02:25:17.926103Z",
     "shell.execute_reply": "2023-07-19T02:25:17.924847Z",
     "shell.execute_reply.started": "2023-07-19T02:25:17.916212Z"
    }
   },
   "outputs": [],
   "source": [
    "# Model 4: XGBClassifier"
   ]
  },
  {
   "cell_type": "code",
   "execution_count": 29,
   "metadata": {
    "execution": {
     "iopub.execute_input": "2023-07-19T02:25:17.928899Z",
     "iopub.status.busy": "2023-07-19T02:25:17.928044Z",
     "iopub.status.idle": "2023-07-19T02:32:46.339258Z",
     "shell.execute_reply": "2023-07-19T02:32:46.337177Z",
     "shell.execute_reply.started": "2023-07-19T02:25:17.928843Z"
    }
   },
   "outputs": [
    {
     "name": "stdout",
     "output_type": "stream",
     "text": [
      "CV Scores:\n",
      "['0.7855', '0.7841', '0.7138', '0.7800', '0.8468']\n",
      "CV Score mean: 0.7820 \n",
      "CV Score range: 0.7399 -- 0.8241\n",
      "Total duration: 166.58310461044312\n"
     ]
    }
   ],
   "source": [
    "from xgboost import XGBClassifier\n",
    "from sklearn.pipeline import Pipeline\n",
    "from sklearn.preprocessing import OneHotEncoder, OrdinalEncoder\n",
    "\n",
    "params = {\n",
    "      \"learning_rate\": 0.03,\n",
    "      \"max_depth\": 6,\n",
    "      \"min_child_samples\": 63,\n",
    "      \"min_data_per_group\": 100,\n",
    "      \"n_estimators\": 200,\n",
    "      \"num_leaves\": 63,\n",
    "      \"reg_alpha\":  0.05,\n",
    "      \"reg_lambda\": 0.05,\n",
    "      \"subsample\": 0.8,\n",
    "      \"boosting_type\": 'gbtree',\n",
    "      \"n_jobs\": 1,\n",
    "      \"verbosity\": 0,\n",
    "      \"seed\": 77,\n",
    "}\n",
    "\n",
    "pipe = Pipeline(steps=[\n",
    "   #('encoder', OrdinalEncoder(handle_unknown=\"use_encoded_value\", unknown_value=-1, dtype=np.int32)),\n",
    "   ('encoder', OneHotEncoder(handle_unknown='ignore', sparse=False, dtype=np.int32)),\n",
    "   ('clf', XGBClassifier(**params)),                    \n",
    "])\n",
    "\n",
    "start = time.time()\n",
    "pipe.fit(X, y)\n",
    "\n",
    "# The more CV, the better our estimate of the score\n",
    "inner_cv_scores = cross_validate(pipe, X, y, \n",
    "                                 cv=5, \n",
    "                                 scoring=\"roc_auc\", \n",
    "                                 n_jobs=15, \n",
    "                                 verbose=0, \n",
    "                                 return_train_score=True)\n",
    "cv_scores=inner_cv_scores['test_score'].tolist()\n",
    "fit_times=inner_cv_scores['fit_time'].tolist()\n",
    "duration = time.time() - start\n",
    "\n",
    "print(\"CV Scores:\")\n",
    "print([\"{:0.4f}\".format(cv_score) for cv_score in cv_scores])\n",
    "print(\"CV Score mean: {:.4f} \".format(np.mean(cv_scores)))\n",
    "print(\"CV Score range: {:0.4f} -- {:0.4f}\".format(np.mean(cv_scores) - np.std(cv_scores), np.mean(cv_scores) + np.std(cv_scores)))\n",
    "print(\"Total duration: {}\".format(duration))"
   ]
  },
  {
   "cell_type": "code",
   "execution_count": 30,
   "metadata": {
    "execution": {
     "iopub.execute_input": "2023-07-19T02:32:46.342638Z",
     "iopub.status.busy": "2023-07-19T02:32:46.342073Z",
     "iopub.status.idle": "2023-07-19T02:32:47.161224Z",
     "shell.execute_reply": "2023-07-19T02:32:47.159866Z",
     "shell.execute_reply.started": "2023-07-19T02:32:46.342598Z"
    }
   },
   "outputs": [],
   "source": [
    "estimator = XGBClassifier(**params)\n",
    "estimator = estimator.fit(X, y)"
   ]
  },
  {
   "cell_type": "code",
   "execution_count": 31,
   "metadata": {
    "execution": {
     "iopub.execute_input": "2023-07-19T02:32:47.163492Z",
     "iopub.status.busy": "2023-07-19T02:32:47.163007Z",
     "iopub.status.idle": "2023-07-19T02:32:47.177643Z",
     "shell.execute_reply": "2023-07-19T02:32:47.176084Z",
     "shell.execute_reply.started": "2023-07-19T02:32:47.163430Z"
    }
   },
   "outputs": [],
   "source": [
    "y_pred = estimator.predict(X_test)"
   ]
  },
  {
   "cell_type": "code",
   "execution_count": 32,
   "metadata": {
    "execution": {
     "iopub.execute_input": "2023-07-19T02:32:47.182592Z",
     "iopub.status.busy": "2023-07-19T02:32:47.179193Z",
     "iopub.status.idle": "2023-07-19T02:32:47.200256Z",
     "shell.execute_reply": "2023-07-19T02:32:47.198910Z",
     "shell.execute_reply.started": "2023-07-19T02:32:47.182543Z"
    }
   },
   "outputs": [
    {
     "name": "stdout",
     "output_type": "stream",
     "text": [
      "Accuracy = 0.96\n",
      "Kappa = 0.85\n",
      "F1 Score = 0.88\n",
      "Log Loss = 1.39\n"
     ]
    }
   ],
   "source": [
    "print(\"Accuracy = {:.2f}\".format(accuracy_score(y_test, y_pred)))\n",
    "print(\"Kappa = {:.2f}\".format(cohen_kappa_score(y_test, y_pred)))\n",
    "print(\"F1 Score = {:.2f}\".format(f1_score(y_test, y_pred)))\n",
    "print(\"Log Loss = {:.2f}\".format(log_loss(y_test, y_pred)))"
   ]
  },
  {
   "cell_type": "code",
   "execution_count": null,
   "metadata": {
    "execution": {
     "iopub.execute_input": "2023-07-19T02:32:47.202013Z",
     "iopub.status.busy": "2023-07-19T02:32:47.201651Z",
     "iopub.status.idle": "2023-07-19T02:32:47.211594Z",
     "shell.execute_reply": "2023-07-19T02:32:47.210138Z",
     "shell.execute_reply.started": "2023-07-19T02:32:47.201982Z"
    }
   },
   "outputs": [],
   "source": [
    "# Model 5: XGBoost Tuned by Optuna"
   ]
  },
  {
   "cell_type": "code",
   "execution_count": null,
   "metadata": {
    "execution": {
     "iopub.execute_input": "2023-07-19T02:32:47.214139Z",
     "iopub.status.busy": "2023-07-19T02:32:47.213123Z",
     "iopub.status.idle": "2023-07-19T02:33:21.870668Z",
     "shell.execute_reply": "2023-07-19T02:33:21.868790Z",
     "shell.execute_reply.started": "2023-07-19T02:32:47.214100Z"
    }
   },
   "outputs": [],
   "source": [
    "pip install optuna"
   ]
  },
  {
   "cell_type": "code",
   "execution_count": 33,
   "metadata": {
    "execution": {
     "iopub.execute_input": "2023-07-19T02:33:21.873285Z",
     "iopub.status.busy": "2023-07-19T02:33:21.872888Z",
     "iopub.status.idle": "2023-07-19T02:33:21.880188Z",
     "shell.execute_reply": "2023-07-19T02:33:21.878950Z",
     "shell.execute_reply.started": "2023-07-19T02:33:21.873241Z"
    }
   },
   "outputs": [],
   "source": [
    "import optuna"
   ]
  },
  {
   "cell_type": "code",
   "execution_count": 34,
   "metadata": {
    "execution": {
     "iopub.execute_input": "2023-07-19T02:33:21.882131Z",
     "iopub.status.busy": "2023-07-19T02:33:21.881774Z",
     "iopub.status.idle": "2023-07-19T02:33:21.895605Z",
     "shell.execute_reply": "2023-07-19T02:33:21.894096Z",
     "shell.execute_reply.started": "2023-07-19T02:33:21.882102Z"
    }
   },
   "outputs": [],
   "source": [
    "from sklearn.tree import DecisionTreeClassifier\n",
    "from sklearn.model_selection import cross_val_score\n",
    "\n",
    "    \n",
    "def objective_dt(trial, X, y):\n",
    "\n",
    "  # Now, define all the hyperparams we want to vary, and what values they are allowed\n",
    "  # to take.\n",
    "  #\n",
    "  # Each trial, optuna will automatically choose values for each hyperparam.\n",
    "  hyper_params = {\n",
    "        'learning_rate': trial.suggest_float('learning_rate', 0.005,1,step=0.005),\n",
    "        'min_split_loss': trial.suggest_float('min_split_loss',0.1,10,step=0.1),\n",
    "        'max_depth':trial.suggest_int('max_depth',1,12,step=1),\n",
    "        'max_leaves':trial.suggest_int('max_leaves',0,1000,step=1),\n",
    "        'min_child_weight':trial.suggest_float('min_child_weight',0,1,step=0.05),\n",
    "      \n",
    "        \"n_estimators\": trial.suggest_int(\"n_estimators\", 10, 500, step=10),\n",
    "        \"reg_alpha\": trial.suggest_float(\"reg_alpha\", 0.01, 0.10, step=0.01),\n",
    "\n",
    "        'reg_lambda': trial.suggest_float('reg_lambda', 0.01,0.10,step=0.01),\n",
    "\n",
    "        \"random_state\": 77,\n",
    "  }\n",
    "    \n",
    "\n",
    "  # Use the hyperparams that optuna has chosen for this trial to create a DecisionTreeClassifier\n",
    "  clf = XGBClassifier(**hyper_params)\n",
    "\n",
    "  # Run CV to see how well these hyper_params do\n",
    "  cv_scores = cross_val_score(clf, X, y, cv=10, scoring=\"f1_macro\")\n",
    "  score = np.mean(cv_scores)\n",
    "\n",
    "  # Whatever we return here tells optuna how well these parameters did\n",
    "  return score"
   ]
  },
  {
   "cell_type": "code",
   "execution_count": 35,
   "metadata": {
    "execution": {
     "iopub.execute_input": "2023-07-19T02:33:21.897654Z",
     "iopub.status.busy": "2023-07-19T02:33:21.897296Z",
     "iopub.status.idle": "2023-07-19T02:33:21.914658Z",
     "shell.execute_reply": "2023-07-19T02:33:21.913115Z",
     "shell.execute_reply.started": "2023-07-19T02:33:21.897623Z"
    }
   },
   "outputs": [
    {
     "name": "stderr",
     "output_type": "stream",
     "text": [
      "[I 2023-07-19 06:13:22,477] A new study created in memory with name: no-name-a5085133-cf1e-40bd-84d8-85cbf43fc8fc\n"
     ]
    }
   ],
   "source": [
    "study = optuna.create_study(direction=\"maximize\")"
   ]
  },
  {
   "cell_type": "code",
   "execution_count": 36,
   "metadata": {
    "execution": {
     "iopub.execute_input": "2023-07-19T02:33:21.919333Z",
     "iopub.status.busy": "2023-07-19T02:33:21.918951Z",
     "iopub.status.idle": "2023-07-19T02:49:37.388402Z",
     "shell.execute_reply": "2023-07-19T02:49:37.387158Z",
     "shell.execute_reply.started": "2023-07-19T02:33:21.919302Z"
    }
   },
   "outputs": [
    {
     "name": "stderr",
     "output_type": "stream",
     "text": [
      "[I 2023-07-19 06:13:40,624] Trial 0 finished with value: 0.7589121682874567 and parameters: {'learning_rate': 0.485, 'min_split_loss': 6.4, 'max_depth': 8, 'max_leaves': 136, 'min_child_weight': 0.7000000000000001, 'n_estimators': 290, 'reg_alpha': 0.08, 'reg_lambda': 0.01}. Best is trial 0 with value: 0.7589121682874567.\n",
      "[I 2023-07-19 06:13:47,109] Trial 1 finished with value: 0.6954406400342185 and parameters: {'learning_rate': 0.24000000000000002, 'min_split_loss': 9.9, 'max_depth': 2, 'max_leaves': 562, 'min_child_weight': 0.9, 'n_estimators': 330, 'reg_alpha': 0.08, 'reg_lambda': 0.03}. Best is trial 0 with value: 0.7589121682874567.\n",
      "[I 2023-07-19 06:13:47,920] Trial 2 finished with value: 0.7680619529459387 and parameters: {'learning_rate': 0.215, 'min_split_loss': 7.1, 'max_depth': 4, 'max_leaves': 362, 'min_child_weight': 0.8500000000000001, 'n_estimators': 20, 'reg_alpha': 0.04, 'reg_lambda': 0.09}. Best is trial 2 with value: 0.7680619529459387.\n",
      "[I 2023-07-19 06:13:57,830] Trial 3 finished with value: 0.7914555794734652 and parameters: {'learning_rate': 0.585, 'min_split_loss': 4.8, 'max_depth': 3, 'max_leaves': 297, 'min_child_weight': 0.8, 'n_estimators': 320, 'reg_alpha': 0.04, 'reg_lambda': 0.08}. Best is trial 3 with value: 0.7914555794734652.\n",
      "[I 2023-07-19 06:14:23,111] Trial 4 finished with value: 0.7930329673090764 and parameters: {'learning_rate': 0.11, 'min_split_loss': 3.7, 'max_depth': 8, 'max_leaves': 529, 'min_child_weight': 0.4, 'n_estimators': 450, 'reg_alpha': 0.06999999999999999, 'reg_lambda': 0.06999999999999999}. Best is trial 4 with value: 0.7930329673090764.\n",
      "[I 2023-07-19 06:14:23,718] Trial 5 finished with value: 0.754664615375367 and parameters: {'learning_rate': 0.77, 'min_split_loss': 7.1, 'max_depth': 3, 'max_leaves': 709, 'min_child_weight': 0.8, 'n_estimators': 10, 'reg_alpha': 0.05, 'reg_lambda': 0.09999999999999999}. Best is trial 4 with value: 0.7930329673090764.\n",
      "[I 2023-07-19 06:14:28,254] Trial 6 finished with value: 0.7788797844848245 and parameters: {'learning_rate': 0.62, 'min_split_loss': 3.0000000000000004, 'max_depth': 6, 'max_leaves': 146, 'min_child_weight': 0.6000000000000001, 'n_estimators': 80, 'reg_alpha': 0.060000000000000005, 'reg_lambda': 0.09999999999999999}. Best is trial 4 with value: 0.7930329673090764.\n",
      "[I 2023-07-19 06:14:36,565] Trial 7 finished with value: 0.7736574022239333 and parameters: {'learning_rate': 0.375, 'min_split_loss': 3.3000000000000003, 'max_depth': 7, 'max_leaves': 540, 'min_child_weight': 0.0, 'n_estimators': 140, 'reg_alpha': 0.01, 'reg_lambda': 0.04}. Best is trial 4 with value: 0.7930329673090764.\n",
      "[I 2023-07-19 06:15:00,283] Trial 8 finished with value: 0.7480848554622335 and parameters: {'learning_rate': 0.785, 'min_split_loss': 4.5, 'max_depth': 7, 'max_leaves': 475, 'min_child_weight': 0.15000000000000002, 'n_estimators': 410, 'reg_alpha': 0.060000000000000005, 'reg_lambda': 0.05}. Best is trial 4 with value: 0.7930329673090764.\n",
      "[I 2023-07-19 06:15:09,923] Trial 9 finished with value: 0.757435319823586 and parameters: {'learning_rate': 0.365, 'min_split_loss': 8.3, 'max_depth': 9, 'max_leaves': 795, 'min_child_weight': 0.8, 'n_estimators': 190, 'reg_alpha': 0.04, 'reg_lambda': 0.09999999999999999}. Best is trial 4 with value: 0.7930329673090764.\n",
      "[I 2023-07-19 06:15:37,505] Trial 10 finished with value: 0.815630330476723 and parameters: {'learning_rate': 0.02, 'min_split_loss': 0.4, 'max_depth': 12, 'max_leaves': 867, 'min_child_weight': 0.35000000000000003, 'n_estimators': 500, 'reg_alpha': 0.09999999999999999, 'reg_lambda': 0.06999999999999999}. Best is trial 10 with value: 0.815630330476723.\n",
      "[I 2023-07-19 06:16:01,474] Trial 11 finished with value: 0.8189938297225752 and parameters: {'learning_rate': 0.055, 'min_split_loss': 0.7000000000000001, 'max_depth': 11, 'max_leaves': 999, 'min_child_weight': 0.35000000000000003, 'n_estimators': 500, 'reg_alpha': 0.09999999999999999, 'reg_lambda': 0.06999999999999999}. Best is trial 11 with value: 0.8189938297225752.\n",
      "[I 2023-07-19 06:16:26,598] Trial 12 finished with value: 0.815630330476723 and parameters: {'learning_rate': 0.015, 'min_split_loss': 0.2, 'max_depth': 12, 'max_leaves': 991, 'min_child_weight': 0.35000000000000003, 'n_estimators': 500, 'reg_alpha': 0.09999999999999999, 'reg_lambda': 0.06999999999999999}. Best is trial 11 with value: 0.8189938297225752.\n",
      "[I 2023-07-19 06:16:40,827] Trial 13 finished with value: 0.7959458568402689 and parameters: {'learning_rate': 0.98, 'min_split_loss': 0.5, 'max_depth': 12, 'max_leaves': 998, 'min_child_weight': 0.30000000000000004, 'n_estimators': 380, 'reg_alpha': 0.09999999999999999, 'reg_lambda': 0.060000000000000005}. Best is trial 11 with value: 0.8189938297225752.\n",
      "[I 2023-07-19 06:17:04,758] Trial 14 finished with value: 0.7829438541710054 and parameters: {'learning_rate': 0.02, 'min_split_loss': 1.6, 'max_depth': 10, 'max_leaves': 825, 'min_child_weight': 0.5, 'n_estimators': 500, 'reg_alpha': 0.09, 'reg_lambda': 0.060000000000000005}. Best is trial 11 with value: 0.8189938297225752.\n",
      "[I 2023-07-19 06:17:17,200] Trial 15 finished with value: 0.8062290530049685 and parameters: {'learning_rate': 0.15, 'min_split_loss': 2.0, 'max_depth': 11, 'max_leaves': 850, 'min_child_weight': 0.2, 'n_estimators': 230, 'reg_alpha': 0.09999999999999999, 'reg_lambda': 0.08}. Best is trial 11 with value: 0.8189938297225752.\n",
      "[I 2023-07-19 06:17:38,404] Trial 16 finished with value: 0.7985137432268781 and parameters: {'learning_rate': 0.33, 'min_split_loss': 1.7000000000000002, 'max_depth': 10, 'max_leaves': 712, 'min_child_weight': 0.55, 'n_estimators': 430, 'reg_alpha': 0.08, 'reg_lambda': 0.04}. Best is trial 11 with value: 0.8189938297225752.\n",
      "[I 2023-07-19 06:18:04,884] Trial 17 finished with value: 0.7594739696558132 and parameters: {'learning_rate': 0.005, 'min_split_loss': 0.1, 'max_depth': 12, 'max_leaves': 915, 'min_child_weight': 0.15000000000000002, 'n_estimators': 360, 'reg_alpha': 0.01, 'reg_lambda': 0.08}. Best is trial 11 with value: 0.8189938297225752.\n",
      "[I 2023-07-19 06:18:25,825] Trial 18 finished with value: 0.79778633159059 and parameters: {'learning_rate': 0.12000000000000001, 'min_split_loss': 1.2000000000000002, 'max_depth': 10, 'max_leaves': 687, 'min_child_weight': 0.45, 'n_estimators': 450, 'reg_alpha': 0.09, 'reg_lambda': 0.06999999999999999}. Best is trial 11 with value: 0.8189938297225752.\n",
      "[I 2023-07-19 06:18:41,922] Trial 19 finished with value: 0.8076670046067086 and parameters: {'learning_rate': 0.28, 'min_split_loss': 2.8000000000000003, 'max_depth': 11, 'max_leaves': 13, 'min_child_weight': 0.25, 'n_estimators': 260, 'reg_alpha': 0.09, 'reg_lambda': 0.05}. Best is trial 11 with value: 0.8189938297225752.\n",
      "[I 2023-07-19 06:19:03,145] Trial 20 finished with value: 0.740329409797483 and parameters: {'learning_rate': 0.48000000000000004, 'min_split_loss': 5.7, 'max_depth': 5, 'max_leaves': 923, 'min_child_weight': 1.0, 'n_estimators': 500, 'reg_alpha': 0.06999999999999999, 'reg_lambda': 0.01}. Best is trial 11 with value: 0.8189938297225752.\n",
      "[I 2023-07-19 06:19:24,040] Trial 21 finished with value: 0.8163167972741452 and parameters: {'learning_rate': 0.045, 'min_split_loss': 0.5, 'max_depth': 12, 'max_leaves': 984, 'min_child_weight': 0.35000000000000003, 'n_estimators': 500, 'reg_alpha': 0.09999999999999999, 'reg_lambda': 0.06999999999999999}. Best is trial 11 with value: 0.8189938297225752.\n",
      "[I 2023-07-19 06:19:52,823] Trial 22 finished with value: 0.8020392155882619 and parameters: {'learning_rate': 0.14, 'min_split_loss': 1.0, 'max_depth': 11, 'max_leaves': 906, 'min_child_weight': 0.05, 'n_estimators': 460, 'reg_alpha': 0.09999999999999999, 'reg_lambda': 0.06999999999999999}. Best is trial 11 with value: 0.8189938297225752.\n",
      "[I 2023-07-19 06:20:13,345] Trial 23 finished with value: 0.8036770642067868 and parameters: {'learning_rate': 0.08, 'min_split_loss': 2.4000000000000004, 'max_depth': 9, 'max_leaves': 763, 'min_child_weight': 0.35000000000000003, 'n_estimators': 380, 'reg_alpha': 0.09, 'reg_lambda': 0.09}. Best is trial 11 with value: 0.8189938297225752.\n",
      "[I 2023-07-19 06:20:27,710] Trial 24 finished with value: 0.7955905016240739 and parameters: {'learning_rate': 0.21000000000000002, 'min_split_loss': 0.9, 'max_depth': 12, 'max_leaves': 999, 'min_child_weight': 0.65, 'n_estimators': 410, 'reg_alpha': 0.09999999999999999, 'reg_lambda': 0.060000000000000005}. Best is trial 11 with value: 0.8189938297225752.\n"
     ]
    },
    {
     "name": "stderr",
     "output_type": "stream",
     "text": [
      "[I 2023-07-19 06:20:50,992] Trial 25 finished with value: 0.7844686876590815 and parameters: {'learning_rate': 0.049999999999999996, 'min_split_loss': 2.1, 'max_depth': 11, 'max_leaves': 627, 'min_child_weight': 0.45, 'n_estimators': 460, 'reg_alpha': 0.08, 'reg_lambda': 0.08}. Best is trial 11 with value: 0.8189938297225752.\n",
      "[I 2023-07-19 06:21:20,664] Trial 26 finished with value: 0.7916733501600636 and parameters: {'learning_rate': 0.185, 'min_split_loss': 3.9000000000000004, 'max_depth': 9, 'max_leaves': 862, 'min_child_weight': 0.25, 'n_estimators': 480, 'reg_alpha': 0.02, 'reg_lambda': 0.09}. Best is trial 11 with value: 0.8189938297225752.\n",
      "[I 2023-07-19 06:21:46,622] Trial 27 finished with value: 0.8017920814008399 and parameters: {'learning_rate': 0.08, 'min_split_loss': 1.0, 'max_depth': 10, 'max_leaves': 927, 'min_child_weight': 0.1, 'n_estimators': 400, 'reg_alpha': 0.09, 'reg_lambda': 0.05}. Best is trial 11 with value: 0.8189938297225752.\n",
      "[I 2023-07-19 06:21:56,392] Trial 28 finished with value: 0.830619080591935 and parameters: {'learning_rate': 0.27, 'min_split_loss': 0.1, 'max_depth': 12, 'max_leaves': 778, 'min_child_weight': 0.35000000000000003, 'n_estimators': 340, 'reg_alpha': 0.06999999999999999, 'reg_lambda': 0.060000000000000005}. Best is trial 28 with value: 0.830619080591935.\n",
      "[I 2023-07-19 06:22:08,301] Trial 29 finished with value: 0.7888054778279905 and parameters: {'learning_rate': 0.435, 'min_split_loss': 1.6, 'max_depth': 8, 'max_leaves': 747, 'min_child_weight': 0.5, 'n_estimators': 280, 'reg_alpha': 0.06999999999999999, 'reg_lambda': 0.04}. Best is trial 28 with value: 0.830619080591935.\n",
      "[I 2023-07-19 06:22:20,518] Trial 30 finished with value: 0.7844066028354211 and parameters: {'learning_rate': 0.275, 'min_split_loss': 5.6, 'max_depth': 11, 'max_leaves': 659, 'min_child_weight': 0.25, 'n_estimators': 210, 'reg_alpha': 0.08, 'reg_lambda': 0.02}. Best is trial 28 with value: 0.830619080591935.\n",
      "[I 2023-07-19 06:22:30,615] Trial 31 finished with value: 0.8182621671064512 and parameters: {'learning_rate': 0.17, 'min_split_loss': 0.2, 'max_depth': 12, 'max_leaves': 865, 'min_child_weight': 0.35000000000000003, 'n_estimators': 330, 'reg_alpha': 0.09999999999999999, 'reg_lambda': 0.060000000000000005}. Best is trial 28 with value: 0.830619080591935.\n",
      "[I 2023-07-19 06:22:34,213] Trial 32 finished with value: 0.8408589982067969 and parameters: {'learning_rate': 0.17, 'min_split_loss': 0.1, 'max_depth': 1, 'max_leaves': 935, 'min_child_weight': 0.4, 'n_estimators': 320, 'reg_alpha': 0.08, 'reg_lambda': 0.060000000000000005}. Best is trial 32 with value: 0.8408589982067969.\n",
      "[I 2023-07-19 06:22:37,815] Trial 33 finished with value: 0.833316413722193 and parameters: {'learning_rate': 0.25, 'min_split_loss': 1.2000000000000002, 'max_depth': 1, 'max_leaves': 799, 'min_child_weight': 0.45, 'n_estimators': 320, 'reg_alpha': 0.06999999999999999, 'reg_lambda': 0.060000000000000005}. Best is trial 32 with value: 0.8408589982067969.\n",
      "[I 2023-07-19 06:22:42,881] Trial 34 finished with value: 0.8050916461527127 and parameters: {'learning_rate': 0.27, 'min_split_loss': 2.5000000000000004, 'max_depth': 1, 'max_leaves': 632, 'min_child_weight': 0.45, 'n_estimators': 310, 'reg_alpha': 0.060000000000000005, 'reg_lambda': 0.05}. Best is trial 32 with value: 0.8408589982067969.\n",
      "[I 2023-07-19 06:22:47,202] Trial 35 finished with value: 0.8195069660793678 and parameters: {'learning_rate': 0.335, 'min_split_loss': 1.3000000000000003, 'max_depth': 1, 'max_leaves': 788, 'min_child_weight': 0.6000000000000001, 'n_estimators': 290, 'reg_alpha': 0.06999999999999999, 'reg_lambda': 0.060000000000000005}. Best is trial 32 with value: 0.8408589982067969.\n",
      "[I 2023-07-19 06:22:50,979] Trial 36 finished with value: 0.8270231944177319 and parameters: {'learning_rate': 0.42000000000000004, 'min_split_loss': 1.3000000000000003, 'max_depth': 1, 'max_leaves': 429, 'min_child_weight': 0.7000000000000001, 'n_estimators': 350, 'reg_alpha': 0.05, 'reg_lambda': 0.060000000000000005}. Best is trial 32 with value: 0.8408589982067969.\n",
      "[I 2023-07-19 06:22:59,034] Trial 37 finished with value: 0.768306682951624 and parameters: {'learning_rate': 0.52, 'min_split_loss': 9.2, 'max_depth': 2, 'max_leaves': 412, 'min_child_weight': 0.7000000000000001, 'n_estimators': 350, 'reg_alpha': 0.05, 'reg_lambda': 0.03}. Best is trial 32 with value: 0.8408589982067969.\n",
      "[I 2023-07-19 06:23:05,395] Trial 38 finished with value: 0.8257054728896455 and parameters: {'learning_rate': 0.44, 'min_split_loss': 1.8000000000000003, 'max_depth': 2, 'max_leaves': 253, 'min_child_weight': 0.7000000000000001, 'n_estimators': 310, 'reg_alpha': 0.05, 'reg_lambda': 0.04}. Best is trial 32 with value: 0.8408589982067969.\n",
      "[I 2023-07-19 06:23:12,651] Trial 39 finished with value: 0.7798290983137237 and parameters: {'learning_rate': 0.635, 'min_split_loss': 4.0, 'max_depth': 3, 'max_leaves': 594, 'min_child_weight': 0.55, 'n_estimators': 270, 'reg_alpha': 0.06999999999999999, 'reg_lambda': 0.05}. Best is trial 32 with value: 0.8408589982067969.\n",
      "[I 2023-07-19 06:23:23,848] Trial 40 finished with value: 0.7720851541646739 and parameters: {'learning_rate': 0.245, 'min_split_loss': 3.2, 'max_depth': 4, 'max_leaves': 493, 'min_child_weight': 0.8500000000000001, 'n_estimators': 350, 'reg_alpha': 0.03, 'reg_lambda': 0.060000000000000005}. Best is trial 32 with value: 0.8408589982067969.\n",
      "[I 2023-07-19 06:23:30,148] Trial 41 finished with value: 0.8391136014979977 and parameters: {'learning_rate': 0.41500000000000004, 'min_split_loss': 2.0, 'max_depth': 2, 'max_leaves': 285, 'min_child_weight': 0.75, 'n_estimators': 320, 'reg_alpha': 0.05, 'reg_lambda': 0.04}. Best is trial 32 with value: 0.8408589982067969.\n",
      "[I 2023-07-19 06:23:34,301] Trial 42 finished with value: 0.8243420840523357 and parameters: {'learning_rate': 0.545, 'min_split_loss': 1.4000000000000001, 'max_depth': 1, 'max_leaves': 289, 'min_child_weight': 0.75, 'n_estimators': 330, 'reg_alpha': 0.04, 'reg_lambda': 0.03}. Best is trial 32 with value: 0.8408589982067969.\n",
      "[I 2023-07-19 06:23:39,517] Trial 43 finished with value: 0.8148823543579038 and parameters: {'learning_rate': 0.405, 'min_split_loss': 2.4000000000000004, 'max_depth': 2, 'max_leaves': 368, 'min_child_weight': 0.9, 'n_estimators': 300, 'reg_alpha': 0.060000000000000005, 'reg_lambda': 0.04}. Best is trial 32 with value: 0.8408589982067969.\n",
      "[I 2023-07-19 06:23:44,561] Trial 44 finished with value: 0.8383414284513476 and parameters: {'learning_rate': 0.34, 'min_split_loss': 0.8, 'max_depth': 2, 'max_leaves': 203, 'min_child_weight': 0.65, 'n_estimators': 240, 'reg_alpha': 0.05, 'reg_lambda': 0.05}. Best is trial 32 with value: 0.8408589982067969.\n",
      "[I 2023-07-19 06:23:48,411] Trial 45 finished with value: 0.8480692841251907 and parameters: {'learning_rate': 0.34500000000000003, 'min_split_loss': 0.1, 'max_depth': 3, 'max_leaves': 153, 'min_child_weight': 0.65, 'n_estimators': 170, 'reg_alpha': 0.060000000000000005, 'reg_lambda': 0.03}. Best is trial 45 with value: 0.8480692841251907.\n",
      "[I 2023-07-19 06:23:51,859] Trial 46 finished with value: 0.8313365934363823 and parameters: {'learning_rate': 0.325, 'min_split_loss': 0.7000000000000001, 'max_depth': 3, 'max_leaves': 167, 'min_child_weight': 0.65, 'n_estimators': 120, 'reg_alpha': 0.04, 'reg_lambda': 0.02}. Best is trial 45 with value: 0.8480692841251907.\n",
      "[I 2023-07-19 06:23:56,948] Trial 47 finished with value: 0.7472351118899565 and parameters: {'learning_rate': 0.21000000000000002, 'min_split_loss': 7.7, 'max_depth': 4, 'max_leaves': 65, 'min_child_weight': 0.6000000000000001, 'n_estimators': 150, 'reg_alpha': 0.060000000000000005, 'reg_lambda': 0.03}. Best is trial 45 with value: 0.8480692841251907.\n",
      "[I 2023-07-19 06:24:01,982] Trial 48 finished with value: 0.8378621711773588 and parameters: {'learning_rate': 0.375, 'min_split_loss': 0.6, 'max_depth': 2, 'max_leaves': 200, 'min_child_weight': 0.75, 'n_estimators': 240, 'reg_alpha': 0.03, 'reg_lambda': 0.02}. Best is trial 45 with value: 0.8480692841251907.\n",
      "[I 2023-07-19 06:24:07,956] Trial 49 finished with value: 0.8238427020432532 and parameters: {'learning_rate': 0.47000000000000003, 'min_split_loss': 0.6, 'max_depth': 4, 'max_leaves': 195, 'min_child_weight': 0.75, 'n_estimators': 230, 'reg_alpha': 0.03, 'reg_lambda': 0.02}. Best is trial 45 with value: 0.8480692841251907.\n"
     ]
    },
    {
     "name": "stderr",
     "output_type": "stream",
     "text": [
      "[I 2023-07-19 06:24:10,923] Trial 50 finished with value: 0.8509813727468011 and parameters: {'learning_rate': 0.365, 'min_split_loss': 0.7000000000000001, 'max_depth': 2, 'max_leaves': 81, 'min_child_weight': 0.9, 'n_estimators': 180, 'reg_alpha': 0.02, 'reg_lambda': 0.01}. Best is trial 50 with value: 0.8509813727468011.\n",
      "[I 2023-07-19 06:24:14,100] Trial 51 finished with value: 0.8298952499587559 and parameters: {'learning_rate': 0.395, 'min_split_loss': 0.6, 'max_depth': 2, 'max_leaves': 102, 'min_child_weight': 0.9, 'n_estimators': 180, 'reg_alpha': 0.02, 'reg_lambda': 0.01}. Best is trial 50 with value: 0.8509813727468011.\n",
      "[I 2023-07-19 06:24:17,927] Trial 52 finished with value: 0.8662396727665242 and parameters: {'learning_rate': 0.36, 'min_split_loss': 0.1, 'max_depth': 3, 'max_leaves': 222, 'min_child_weight': 1.0, 'n_estimators': 240, 'reg_alpha': 0.03, 'reg_lambda': 0.02}. Best is trial 52 with value: 0.8662396727665242.\n",
      "[I 2023-07-19 06:24:20,909] Trial 53 finished with value: 0.8413444742756937 and parameters: {'learning_rate': 0.5750000000000001, 'min_split_loss': 0.1, 'max_depth': 3, 'max_leaves': 126, 'min_child_weight': 1.0, 'n_estimators': 190, 'reg_alpha': 0.02, 'reg_lambda': 0.01}. Best is trial 52 with value: 0.8662396727665242.\n",
      "[I 2023-07-19 06:24:23,294] Trial 54 finished with value: 0.8063106620321656 and parameters: {'learning_rate': 0.66, 'min_split_loss': 0.1, 'max_depth': 3, 'max_leaves': 108, 'min_child_weight': 1.0, 'n_estimators': 170, 'reg_alpha': 0.02, 'reg_lambda': 0.01}. Best is trial 52 with value: 0.8662396727665242.\n",
      "[I 2023-07-19 06:24:26,757] Trial 55 finished with value: 0.761643293214554 and parameters: {'learning_rate': 0.725, 'min_split_loss': 2.0, 'max_depth': 5, 'max_leaves': 9, 'min_child_weight': 0.9500000000000001, 'n_estimators': 110, 'reg_alpha': 0.01, 'reg_lambda': 0.01}. Best is trial 52 with value: 0.8662396727665242.\n",
      "[I 2023-07-19 06:24:29,110] Trial 56 finished with value: 0.8191200703973337 and parameters: {'learning_rate': 0.5700000000000001, 'min_split_loss': 0.1, 'max_depth': 5, 'max_leaves': 251, 'min_child_weight': 0.9500000000000001, 'n_estimators': 200, 'reg_alpha': 0.02, 'reg_lambda': 0.02}. Best is trial 52 with value: 0.8662396727665242.\n",
      "[I 2023-07-19 06:24:32,985] Trial 57 finished with value: 0.8267986691126531 and parameters: {'learning_rate': 0.5, 'min_split_loss': 1.0, 'max_depth': 3, 'max_leaves': 69, 'min_child_weight': 0.8500000000000001, 'n_estimators': 160, 'reg_alpha': 0.03, 'reg_lambda': 0.03}. Best is trial 52 with value: 0.8662396727665242.\n",
      "[I 2023-07-19 06:24:36,067] Trial 58 finished with value: 0.7514990981180798 and parameters: {'learning_rate': 0.465, 'min_split_loss': 6.6, 'max_depth': 4, 'max_leaves': 320, 'min_child_weight': 0.9500000000000001, 'n_estimators': 80, 'reg_alpha': 0.01, 'reg_lambda': 0.01}. Best is trial 52 with value: 0.8662396727665242.\n",
      "[I 2023-07-19 06:24:39,479] Trial 59 finished with value: 0.827134940809817 and parameters: {'learning_rate': 0.895, 'min_split_loss': 0.4, 'max_depth': 3, 'max_leaves': 151, 'min_child_weight': 0.8500000000000001, 'n_estimators': 210, 'reg_alpha': 0.02, 'reg_lambda': 0.02}. Best is trial 52 with value: 0.8662396727665242.\n",
      "[I 2023-07-19 06:24:44,324] Trial 60 finished with value: 0.7969495350630511 and parameters: {'learning_rate': 0.3, 'min_split_loss': 4.6, 'max_depth': 6, 'max_leaves': 47, 'min_child_weight': 1.0, 'n_estimators': 120, 'reg_alpha': 0.04, 'reg_lambda': 0.01}. Best is trial 52 with value: 0.8662396727665242.\n",
      "[I 2023-07-19 06:24:49,738] Trial 61 finished with value: 0.8401188350150965 and parameters: {'learning_rate': 0.34, 'min_split_loss': 0.9, 'max_depth': 2, 'max_leaves': 222, 'min_child_weight': 0.8, 'n_estimators': 250, 'reg_alpha': 0.05, 'reg_lambda': 0.03}. Best is trial 52 with value: 0.8662396727665242.\n",
      "[I 2023-07-19 06:24:54,031] Trial 62 finished with value: 0.8325251349494234 and parameters: {'learning_rate': 0.595, 'min_split_loss': 0.4, 'max_depth': 2, 'max_leaves': 119, 'min_child_weight': 0.8, 'n_estimators': 200, 'reg_alpha': 0.03, 'reg_lambda': 0.03}. Best is trial 52 with value: 0.8662396727665242.\n",
      "[I 2023-07-19 06:24:59,680] Trial 63 finished with value: 0.8467212308362377 and parameters: {'learning_rate': 0.37, 'min_split_loss': 0.9, 'max_depth': 3, 'max_leaves': 245, 'min_child_weight': 0.9, 'n_estimators': 260, 'reg_alpha': 0.04, 'reg_lambda': 0.03}. Best is trial 52 with value: 0.8662396727665242.\n",
      "[I 2023-07-19 06:25:04,133] Trial 64 finished with value: 0.838562951416087 and parameters: {'learning_rate': 0.365, 'min_split_loss': 0.9, 'max_depth': 3, 'max_leaves': 174, 'min_child_weight': 0.9500000000000001, 'n_estimators': 180, 'reg_alpha': 0.04, 'reg_lambda': 0.02}. Best is trial 52 with value: 0.8662396727665242.\n",
      "[I 2023-07-19 06:25:11,270] Trial 65 finished with value: 0.8127903944353069 and parameters: {'learning_rate': 0.305, 'min_split_loss': 1.5000000000000002, 'max_depth': 3, 'max_leaves': 230, 'min_child_weight': 0.9, 'n_estimators': 250, 'reg_alpha': 0.03, 'reg_lambda': 0.01}. Best is trial 52 with value: 0.8662396727665242.\n",
      "[I 2023-07-19 06:25:13,744] Trial 66 finished with value: 0.8479496907822138 and parameters: {'learning_rate': 0.525, 'min_split_loss': 0.30000000000000004, 'max_depth': 1, 'max_leaves': 325, 'min_child_weight': 1.0, 'n_estimators': 220, 'reg_alpha': 0.04, 'reg_lambda': 0.03}. Best is trial 52 with value: 0.8662396727665242.\n",
      "[I 2023-07-19 06:25:16,216] Trial 67 finished with value: 0.8367492895453154 and parameters: {'learning_rate': 0.535, 'min_split_loss': 0.4, 'max_depth': 1, 'max_leaves': 326, 'min_child_weight': 1.0, 'n_estimators': 220, 'reg_alpha': 0.02, 'reg_lambda': 0.02}. Best is trial 52 with value: 0.8662396727665242.\n",
      "[I 2023-07-19 06:25:17,966] Trial 68 finished with value: 0.8505837420133826 and parameters: {'learning_rate': 0.68, 'min_split_loss': 0.30000000000000004, 'max_depth': 1, 'max_leaves': 146, 'min_child_weight': 0.9500000000000001, 'n_estimators': 140, 'reg_alpha': 0.03, 'reg_lambda': 0.02}. Best is trial 52 with value: 0.8662396727665242.\n",
      "[I 2023-07-19 06:25:20,316] Trial 69 finished with value: 0.8098729589972921 and parameters: {'learning_rate': 0.6950000000000001, 'min_split_loss': 1.1, 'max_depth': 4, 'max_leaves': 125, 'min_child_weight': 0.9500000000000001, 'n_estimators': 60, 'reg_alpha': 0.04, 'reg_lambda': 0.03}. Best is trial 52 with value: 0.8662396727665242.\n",
      "[I 2023-07-19 06:25:24,056] Trial 70 finished with value: 0.8086866586753148 and parameters: {'learning_rate': 0.6, 'min_split_loss': 0.4, 'max_depth': 5, 'max_leaves': 92, 'min_child_weight': 1.0, 'n_estimators': 150, 'reg_alpha': 0.03, 'reg_lambda': 0.02}. Best is trial 52 with value: 0.8662396727665242.\n",
      "[I 2023-07-19 06:25:26,814] Trial 71 finished with value: 0.8485855168571999 and parameters: {'learning_rate': 0.845, 'min_split_loss': 0.1, 'max_depth': 1, 'max_leaves': 35, 'min_child_weight': 0.9, 'n_estimators': 190, 'reg_alpha': 0.02, 'reg_lambda': 0.01}. Best is trial 52 with value: 0.8662396727665242.\n",
      "[I 2023-07-19 06:25:28,913] Trial 72 finished with value: 0.8391317484918526 and parameters: {'learning_rate': 0.865, 'min_split_loss': 0.7000000000000001, 'max_depth': 1, 'max_leaves': 29, 'min_child_weight': 0.9, 'n_estimators': 190, 'reg_alpha': 0.02, 'reg_lambda': 0.01}. Best is trial 52 with value: 0.8662396727665242.\n",
      "[I 2023-07-19 06:25:30,499] Trial 73 finished with value: 0.84825573644989 and parameters: {'learning_rate': 0.8250000000000001, 'min_split_loss': 0.30000000000000004, 'max_depth': 1, 'max_leaves': 153, 'min_child_weight': 0.8500000000000001, 'n_estimators': 140, 'reg_alpha': 0.02, 'reg_lambda': 0.01}. Best is trial 52 with value: 0.8662396727665242.\n",
      "[I 2023-07-19 06:25:32,038] Trial 74 finished with value: 0.8497502705923908 and parameters: {'learning_rate': 0.78, 'min_split_loss': 0.4, 'max_depth': 1, 'max_leaves': 167, 'min_child_weight': 0.8500000000000001, 'n_estimators': 130, 'reg_alpha': 0.01, 'reg_lambda': 0.02}. Best is trial 52 with value: 0.8662396727665242.\n",
      "[I 2023-07-19 06:25:33,621] Trial 75 finished with value: 0.8248433505239733 and parameters: {'learning_rate': 0.795, 'min_split_loss': 0.4, 'max_depth': 1, 'max_leaves': 148, 'min_child_weight': 0.8500000000000001, 'n_estimators': 130, 'reg_alpha': 0.01, 'reg_lambda': 0.02}. Best is trial 52 with value: 0.8662396727665242.\n"
     ]
    },
    {
     "name": "stderr",
     "output_type": "stream",
     "text": [
      "[I 2023-07-19 06:25:36,474] Trial 76 finished with value: 0.83654647344548 and parameters: {'learning_rate': 0.84, 'min_split_loss': 1.7000000000000002, 'max_depth': 1, 'max_leaves': 63, 'min_child_weight': 0.8500000000000001, 'n_estimators': 140, 'reg_alpha': 0.01, 'reg_lambda': 0.01}. Best is trial 52 with value: 0.8662396727665242.\n",
      "[I 2023-07-19 06:25:38,451] Trial 77 finished with value: 0.8479749498270334 and parameters: {'learning_rate': 0.925, 'min_split_loss': 1.2000000000000002, 'max_depth': 1, 'max_leaves': 166, 'min_child_weight': 0.8, 'n_estimators': 90, 'reg_alpha': 0.01, 'reg_lambda': 0.02}. Best is trial 52 with value: 0.8662396727665242.\n",
      "[I 2023-07-19 06:25:40,817] Trial 78 finished with value: 0.8034898269733999 and parameters: {'learning_rate': 0.92, 'min_split_loss': 1.3000000000000003, 'max_depth': 2, 'max_leaves': 85, 'min_child_weight': 0.8, 'n_estimators': 90, 'reg_alpha': 0.01, 'reg_lambda': 0.02}. Best is trial 52 with value: 0.8662396727665242.\n",
      "[I 2023-07-19 06:25:42,016] Trial 79 finished with value: 0.8041295489167393 and parameters: {'learning_rate': 0.97, 'min_split_loss': 5.4, 'max_depth': 1, 'max_leaves': 41, 'min_child_weight': 0.8, 'n_estimators': 50, 'reg_alpha': 0.01, 'reg_lambda': 0.01}. Best is trial 52 with value: 0.8662396727665242.\n",
      "[I 2023-07-19 06:25:43,933] Trial 80 finished with value: 0.8112242485113554 and parameters: {'learning_rate': 0.81, 'min_split_loss': 1.2000000000000002, 'max_depth': 2, 'max_leaves': 175, 'min_child_weight': 0.9, 'n_estimators': 90, 'reg_alpha': 0.02, 'reg_lambda': 0.02}. Best is trial 52 with value: 0.8662396727665242.\n",
      "[I 2023-07-19 06:25:45,665] Trial 81 finished with value: 0.8553694418582903 and parameters: {'learning_rate': 0.76, 'min_split_loss': 0.30000000000000004, 'max_depth': 1, 'max_leaves': 141, 'min_child_weight': 0.9500000000000001, 'n_estimators': 160, 'reg_alpha': 0.01, 'reg_lambda': 0.02}. Best is trial 52 with value: 0.8662396727665242.\n",
      "[I 2023-07-19 06:25:46,980] Trial 82 finished with value: 0.824763785935294 and parameters: {'learning_rate': 0.755, 'min_split_loss': 0.6, 'max_depth': 1, 'max_leaves': 1, 'min_child_weight': 0.9500000000000001, 'n_estimators': 110, 'reg_alpha': 0.01, 'reg_lambda': 0.02}. Best is trial 52 with value: 0.8662396727665242.\n",
      "[I 2023-07-19 06:25:48,743] Trial 83 finished with value: 0.8407020100898146 and parameters: {'learning_rate': 0.755, 'min_split_loss': 0.30000000000000004, 'max_depth': 1, 'max_leaves': 143, 'min_child_weight': 0.8500000000000001, 'n_estimators': 160, 'reg_alpha': 0.01, 'reg_lambda': 0.01}. Best is trial 52 with value: 0.8662396727665242.\n",
      "[I 2023-07-19 06:25:51,656] Trial 84 finished with value: 0.8029710010579443 and parameters: {'learning_rate': 0.8300000000000001, 'min_split_loss': 0.8, 'max_depth': 2, 'max_leaves': 170, 'min_child_weight': 0.9, 'n_estimators': 140, 'reg_alpha': 0.02, 'reg_lambda': 0.02}. Best is trial 52 with value: 0.8662396727665242.\n",
      "[I 2023-07-19 06:25:54,490] Trial 85 finished with value: 0.8509272205752009 and parameters: {'learning_rate': 0.9400000000000001, 'min_split_loss': 1.1, 'max_depth': 1, 'max_leaves': 81, 'min_child_weight': 0.9500000000000001, 'n_estimators': 170, 'reg_alpha': 0.01, 'reg_lambda': 0.01}. Best is trial 52 with value: 0.8662396727665242.\n",
      "[I 2023-07-19 06:25:56,931] Trial 86 finished with value: 0.8358137342424967 and parameters: {'learning_rate': 1.0, 'min_split_loss': 0.1, 'max_depth': 1, 'max_leaves': 94, 'min_child_weight': 0.9500000000000001, 'n_estimators': 170, 'reg_alpha': 0.02, 'reg_lambda': 0.01}. Best is trial 52 with value: 0.8662396727665242.\n",
      "[I 2023-07-19 06:26:00,151] Trial 87 finished with value: 0.7825331112071939 and parameters: {'learning_rate': 0.87, 'min_split_loss': 1.5000000000000002, 'max_depth': 2, 'max_leaves': 37, 'min_child_weight': 0.9500000000000001, 'n_estimators': 160, 'reg_alpha': 0.02, 'reg_lambda': 0.01}. Best is trial 52 with value: 0.8662396727665242.\n",
      "[I 2023-07-19 06:26:01,740] Trial 88 finished with value: 0.8626517733867486 and parameters: {'learning_rate': 0.7050000000000001, 'min_split_loss': 0.7000000000000001, 'max_depth': 1, 'max_leaves': 75, 'min_child_weight': 0.9, 'n_estimators': 130, 'reg_alpha': 0.01, 'reg_lambda': 0.01}. Best is trial 52 with value: 0.8662396727665242.\n",
      "[I 2023-07-19 06:26:03,387] Trial 89 finished with value: 0.7524730289241687 and parameters: {'learning_rate': 0.7000000000000001, 'min_split_loss': 9.9, 'max_depth': 1, 'max_leaves': 72, 'min_child_weight': 0.9, 'n_estimators': 130, 'reg_alpha': 0.01, 'reg_lambda': 0.01}. Best is trial 52 with value: 0.8662396727665242.\n",
      "[I 2023-07-19 06:26:04,796] Trial 90 finished with value: 0.8398198096845437 and parameters: {'learning_rate': 0.725, 'min_split_loss': 2.2, 'max_depth': 1, 'max_leaves': 128, 'min_child_weight': 0.8500000000000001, 'n_estimators': 110, 'reg_alpha': 0.01, 'reg_lambda': 0.01}. Best is trial 52 with value: 0.8662396727665242.\n",
      "[I 2023-07-19 06:26:07,579] Trial 91 finished with value: 0.822366112232374 and parameters: {'learning_rate': 0.77, 'min_split_loss': 0.6, 'max_depth': 2, 'max_leaves': 209, 'min_child_weight': 0.9500000000000001, 'n_estimators': 150, 'reg_alpha': 0.01, 'reg_lambda': 0.01}. Best is trial 52 with value: 0.8662396727665242.\n",
      "[I 2023-07-19 06:26:11,551] Trial 92 finished with value: 0.8413246236317333 and parameters: {'learning_rate': 0.65, 'min_split_loss': 0.30000000000000004, 'max_depth': 7, 'max_leaves': 52, 'min_child_weight': 0.9, 'n_estimators': 180, 'reg_alpha': 0.02, 'reg_lambda': 0.02}. Best is trial 52 with value: 0.8662396727665242.\n",
      "[I 2023-07-19 06:26:13,619] Trial 93 finished with value: 0.8347678251708672 and parameters: {'learning_rate': 0.8200000000000001, 'min_split_loss': 0.7000000000000001, 'max_depth': 1, 'max_leaves': 24, 'min_child_weight': 1.0, 'n_estimators': 130, 'reg_alpha': 0.03, 'reg_lambda': 0.01}. Best is trial 52 with value: 0.8662396727665242.\n",
      "[I 2023-07-19 06:26:16,438] Trial 94 finished with value: 0.8244698832398176 and parameters: {'learning_rate': 0.79, 'min_split_loss': 1.1, 'max_depth': 2, 'max_leaves': 106, 'min_child_weight': 0.8500000000000001, 'n_estimators': 160, 'reg_alpha': 0.01, 'reg_lambda': 0.01}. Best is trial 52 with value: 0.8662396727665242.\n",
      "[I 2023-07-19 06:26:18,259] Trial 95 finished with value: 0.8403103973657927 and parameters: {'learning_rate': 0.9550000000000001, 'min_split_loss': 0.5, 'max_depth': 1, 'max_leaves': 273, 'min_child_weight': 0.9500000000000001, 'n_estimators': 170, 'reg_alpha': 0.02, 'reg_lambda': 0.02}. Best is trial 52 with value: 0.8662396727665242.\n",
      "[I 2023-07-19 06:26:20,203] Trial 96 finished with value: 0.8434961619097153 and parameters: {'learning_rate': 0.855, 'min_split_loss': 0.1, 'max_depth': 1, 'max_leaves': 188, 'min_child_weight': 0.9, 'n_estimators': 200, 'reg_alpha': 0.01, 'reg_lambda': 0.01}. Best is trial 52 with value: 0.8662396727665242.\n",
      "[I 2023-07-19 06:26:22,127] Trial 97 finished with value: 0.7889767001103373 and parameters: {'learning_rate': 0.6950000000000001, 'min_split_loss': 0.8, 'max_depth': 2, 'max_leaves': 83, 'min_child_weight': 1.0, 'n_estimators': 100, 'reg_alpha': 0.060000000000000005, 'reg_lambda': 0.02}. Best is trial 52 with value: 0.8662396727665242.\n",
      "[I 2023-07-19 06:26:25,414] Trial 98 finished with value: 0.8071912178416388 and parameters: {'learning_rate': 0.89, 'min_split_loss': 1.7000000000000002, 'max_depth': 2, 'max_leaves': 146, 'min_child_weight': 0.9500000000000001, 'n_estimators': 140, 'reg_alpha': 0.02, 'reg_lambda': 0.02}. Best is trial 52 with value: 0.8662396727665242.\n",
      "[I 2023-07-19 06:26:28,419] Trial 99 finished with value: 0.7918724756619844 and parameters: {'learning_rate': 0.755, 'min_split_loss': 2.8000000000000003, 'max_depth': 1, 'max_leaves': 109, 'min_child_weight': 0.75, 'n_estimators': 180, 'reg_alpha': 0.03, 'reg_lambda': 0.01}. Best is trial 52 with value: 0.8662396727665242.\n"
     ]
    }
   ],
   "source": [
    "study.optimize(lambda trial: objective_dt(trial, X, y), n_trials=100,  gc_after_trial=True)"
   ]
  },
  {
   "cell_type": "code",
   "execution_count": 37,
   "metadata": {
    "execution": {
     "iopub.execute_input": "2023-07-19T02:49:37.390567Z",
     "iopub.status.busy": "2023-07-19T02:49:37.390192Z",
     "iopub.status.idle": "2023-07-19T02:49:37.398491Z",
     "shell.execute_reply": "2023-07-19T02:49:37.397569Z",
     "shell.execute_reply.started": "2023-07-19T02:49:37.390534Z"
    }
   },
   "outputs": [
    {
     "data": {
      "text/plain": [
       "{'learning_rate': 0.36,\n",
       " 'min_split_loss': 0.1,\n",
       " 'max_depth': 3,\n",
       " 'max_leaves': 222,\n",
       " 'min_child_weight': 1.0,\n",
       " 'n_estimators': 240,\n",
       " 'reg_alpha': 0.03,\n",
       " 'reg_lambda': 0.02}"
      ]
     },
     "execution_count": 37,
     "metadata": {},
     "output_type": "execute_result"
    }
   ],
   "source": [
    "study.best_params"
   ]
  },
  {
   "cell_type": "code",
   "execution_count": 38,
   "metadata": {
    "execution": {
     "iopub.execute_input": "2023-07-19T02:49:37.400391Z",
     "iopub.status.busy": "2023-07-19T02:49:37.399908Z",
     "iopub.status.idle": "2023-07-19T02:49:37.418930Z",
     "shell.execute_reply": "2023-07-19T02:49:37.417681Z",
     "shell.execute_reply.started": "2023-07-19T02:49:37.400353Z"
    }
   },
   "outputs": [
    {
     "data": {
      "text/plain": [
       "0.8662396727665242"
      ]
     },
     "execution_count": 38,
     "metadata": {},
     "output_type": "execute_result"
    }
   ],
   "source": [
    "study.best_value"
   ]
  },
  {
   "cell_type": "code",
   "execution_count": 39,
   "metadata": {
    "execution": {
     "iopub.execute_input": "2023-07-19T02:49:37.420765Z",
     "iopub.status.busy": "2023-07-19T02:49:37.420424Z",
     "iopub.status.idle": "2023-07-19T02:49:38.808094Z",
     "shell.execute_reply": "2023-07-19T02:49:38.806959Z",
     "shell.execute_reply.started": "2023-07-19T02:49:37.420736Z"
    }
   },
   "outputs": [
    {
     "data": {
      "text/plain": [
       "XGBClassifier(base_score=None, booster=None, callbacks=None,\n",
       "              colsample_bylevel=None, colsample_bynode=None,\n",
       "              colsample_bytree=None, early_stopping_rounds=None,\n",
       "              enable_categorical=False, eval_metric=None, feature_types=None,\n",
       "              gamma=None, gpu_id=None, grow_policy=None, importance_type=None,\n",
       "              interaction_constraints=None, learning_rate=0.36, max_bin=None,\n",
       "              max_cat_threshold=None, max_cat_to_onehot=None,\n",
       "              max_delta_step=None, max_depth=3, max_leaves=222,\n",
       "              min_child_weight=1.0, min_split_loss=0.1, missing=nan,\n",
       "              monotone_constraints=None, n_estimators=240, n_jobs=None,\n",
       "              num_parallel_tree=None, predictor=None, ...)"
      ]
     },
     "execution_count": 39,
     "metadata": {},
     "output_type": "execute_result"
    }
   ],
   "source": [
    "clf = XGBClassifier(**study.best_params)\n",
    "clf.fit(X,y)"
   ]
  },
  {
   "cell_type": "code",
   "execution_count": 40,
   "metadata": {
    "execution": {
     "iopub.execute_input": "2023-07-19T02:49:38.809928Z",
     "iopub.status.busy": "2023-07-19T02:49:38.809552Z",
     "iopub.status.idle": "2023-07-19T02:49:38.821071Z",
     "shell.execute_reply": "2023-07-19T02:49:38.819767Z",
     "shell.execute_reply.started": "2023-07-19T02:49:38.809894Z"
    }
   },
   "outputs": [],
   "source": [
    "y_pred = clf.predict(X_test)"
   ]
  },
  {
   "cell_type": "code",
   "execution_count": 41,
   "metadata": {
    "execution": {
     "iopub.execute_input": "2023-07-19T02:49:38.822897Z",
     "iopub.status.busy": "2023-07-19T02:49:38.822567Z",
     "iopub.status.idle": "2023-07-19T02:49:38.841153Z",
     "shell.execute_reply": "2023-07-19T02:49:38.838582Z",
     "shell.execute_reply.started": "2023-07-19T02:49:38.822869Z"
    }
   },
   "outputs": [
    {
     "name": "stdout",
     "output_type": "stream",
     "text": [
      "Accuracy = 0.96\n",
      "Kappa = 0.86\n",
      "F1 Score = 0.88\n",
      "Log Loss = 1.39\n"
     ]
    }
   ],
   "source": [
    "print(\"Accuracy = {:.2f}\".format(accuracy_score(y_test, y_pred)))\n",
    "print(\"Kappa = {:.2f}\".format(cohen_kappa_score(y_test, y_pred)))\n",
    "print(\"F1 Score = {:.2f}\".format(f1_score(y_test, y_pred)))\n",
    "print(\"Log Loss = {:.2f}\".format(log_loss(y_test, y_pred)))"
   ]
  },
  {
   "cell_type": "code",
   "execution_count": 43,
   "metadata": {
    "execution": {
     "iopub.execute_input": "2023-07-19T02:49:38.846078Z",
     "iopub.status.busy": "2023-07-19T02:49:38.845658Z",
     "iopub.status.idle": "2023-07-19T02:49:38.879661Z",
     "shell.execute_reply": "2023-07-19T02:49:38.878693Z",
     "shell.execute_reply.started": "2023-07-19T02:49:38.846045Z"
    }
   },
   "outputs": [],
   "source": [
    "df = pd.read_csv( 'C:/Users/Omotola/Desktop/MMA 869/test.csv', header = 'infer' )\n",
    "X_test = df\n",
    "\n",
    "df['EJ_A'] = np.where(df['EJ'] == 'A',1,0)\n",
    "df['EJ_B'] = np.where(df['EJ'] == 'B',1,0)\n",
    "df = df.drop(['EJ'],axis=1)"
   ]
  },
  {
   "cell_type": "code",
   "execution_count": 44,
   "metadata": {
    "execution": {
     "iopub.execute_input": "2023-07-19T02:49:38.884174Z",
     "iopub.status.busy": "2023-07-19T02:49:38.883256Z",
     "iopub.status.idle": "2023-07-19T02:49:38.920303Z",
     "shell.execute_reply": "2023-07-19T02:49:38.919182Z",
     "shell.execute_reply.started": "2023-07-19T02:49:38.884138Z"
    }
   },
   "outputs": [
    {
     "data": {
      "text/html": [
       "<div>\n",
       "<style scoped>\n",
       "    .dataframe tbody tr th:only-of-type {\n",
       "        vertical-align: middle;\n",
       "    }\n",
       "\n",
       "    .dataframe tbody tr th {\n",
       "        vertical-align: top;\n",
       "    }\n",
       "\n",
       "    .dataframe thead th {\n",
       "        text-align: right;\n",
       "    }\n",
       "</style>\n",
       "<table border=\"1\" class=\"dataframe\">\n",
       "  <thead>\n",
       "    <tr style=\"text-align: right;\">\n",
       "      <th></th>\n",
       "      <th>Id</th>\n",
       "      <th>AB</th>\n",
       "      <th>AF</th>\n",
       "      <th>AH</th>\n",
       "      <th>AM</th>\n",
       "      <th>AR</th>\n",
       "      <th>AX</th>\n",
       "      <th>AY</th>\n",
       "      <th>AZ</th>\n",
       "      <th>BC</th>\n",
       "      <th>...</th>\n",
       "      <th>FR</th>\n",
       "      <th>FS</th>\n",
       "      <th>GB</th>\n",
       "      <th>GE</th>\n",
       "      <th>GF</th>\n",
       "      <th>GH</th>\n",
       "      <th>GI</th>\n",
       "      <th>GL</th>\n",
       "      <th>EJ_A</th>\n",
       "      <th>EJ_B</th>\n",
       "    </tr>\n",
       "  </thead>\n",
       "  <tbody>\n",
       "    <tr>\n",
       "      <th>0</th>\n",
       "      <td>00eed32682bb</td>\n",
       "      <td>0.0</td>\n",
       "      <td>0.0</td>\n",
       "      <td>0.0</td>\n",
       "      <td>0.0</td>\n",
       "      <td>0.0</td>\n",
       "      <td>0.0</td>\n",
       "      <td>0.0</td>\n",
       "      <td>0.0</td>\n",
       "      <td>0.0</td>\n",
       "      <td>...</td>\n",
       "      <td>0.0</td>\n",
       "      <td>0.0</td>\n",
       "      <td>0.0</td>\n",
       "      <td>0.0</td>\n",
       "      <td>0.0</td>\n",
       "      <td>0.0</td>\n",
       "      <td>0.0</td>\n",
       "      <td>0.0</td>\n",
       "      <td>1</td>\n",
       "      <td>0</td>\n",
       "    </tr>\n",
       "    <tr>\n",
       "      <th>1</th>\n",
       "      <td>010ebe33f668</td>\n",
       "      <td>0.0</td>\n",
       "      <td>0.0</td>\n",
       "      <td>0.0</td>\n",
       "      <td>0.0</td>\n",
       "      <td>0.0</td>\n",
       "      <td>0.0</td>\n",
       "      <td>0.0</td>\n",
       "      <td>0.0</td>\n",
       "      <td>0.0</td>\n",
       "      <td>...</td>\n",
       "      <td>0.0</td>\n",
       "      <td>0.0</td>\n",
       "      <td>0.0</td>\n",
       "      <td>0.0</td>\n",
       "      <td>0.0</td>\n",
       "      <td>0.0</td>\n",
       "      <td>0.0</td>\n",
       "      <td>0.0</td>\n",
       "      <td>1</td>\n",
       "      <td>0</td>\n",
       "    </tr>\n",
       "    <tr>\n",
       "      <th>2</th>\n",
       "      <td>02fa521e1838</td>\n",
       "      <td>0.0</td>\n",
       "      <td>0.0</td>\n",
       "      <td>0.0</td>\n",
       "      <td>0.0</td>\n",
       "      <td>0.0</td>\n",
       "      <td>0.0</td>\n",
       "      <td>0.0</td>\n",
       "      <td>0.0</td>\n",
       "      <td>0.0</td>\n",
       "      <td>...</td>\n",
       "      <td>0.0</td>\n",
       "      <td>0.0</td>\n",
       "      <td>0.0</td>\n",
       "      <td>0.0</td>\n",
       "      <td>0.0</td>\n",
       "      <td>0.0</td>\n",
       "      <td>0.0</td>\n",
       "      <td>0.0</td>\n",
       "      <td>1</td>\n",
       "      <td>0</td>\n",
       "    </tr>\n",
       "    <tr>\n",
       "      <th>3</th>\n",
       "      <td>040e15f562a2</td>\n",
       "      <td>0.0</td>\n",
       "      <td>0.0</td>\n",
       "      <td>0.0</td>\n",
       "      <td>0.0</td>\n",
       "      <td>0.0</td>\n",
       "      <td>0.0</td>\n",
       "      <td>0.0</td>\n",
       "      <td>0.0</td>\n",
       "      <td>0.0</td>\n",
       "      <td>...</td>\n",
       "      <td>0.0</td>\n",
       "      <td>0.0</td>\n",
       "      <td>0.0</td>\n",
       "      <td>0.0</td>\n",
       "      <td>0.0</td>\n",
       "      <td>0.0</td>\n",
       "      <td>0.0</td>\n",
       "      <td>0.0</td>\n",
       "      <td>1</td>\n",
       "      <td>0</td>\n",
       "    </tr>\n",
       "    <tr>\n",
       "      <th>4</th>\n",
       "      <td>046e85c7cc7f</td>\n",
       "      <td>0.0</td>\n",
       "      <td>0.0</td>\n",
       "      <td>0.0</td>\n",
       "      <td>0.0</td>\n",
       "      <td>0.0</td>\n",
       "      <td>0.0</td>\n",
       "      <td>0.0</td>\n",
       "      <td>0.0</td>\n",
       "      <td>0.0</td>\n",
       "      <td>...</td>\n",
       "      <td>0.0</td>\n",
       "      <td>0.0</td>\n",
       "      <td>0.0</td>\n",
       "      <td>0.0</td>\n",
       "      <td>0.0</td>\n",
       "      <td>0.0</td>\n",
       "      <td>0.0</td>\n",
       "      <td>0.0</td>\n",
       "      <td>1</td>\n",
       "      <td>0</td>\n",
       "    </tr>\n",
       "  </tbody>\n",
       "</table>\n",
       "<p>5 rows × 59 columns</p>\n",
       "</div>"
      ],
      "text/plain": [
       "             Id   AB   AF   AH   AM   AR   AX   AY   AZ   BC  ...   FR   FS  \\\n",
       "0  00eed32682bb  0.0  0.0  0.0  0.0  0.0  0.0  0.0  0.0  0.0  ...  0.0  0.0   \n",
       "1  010ebe33f668  0.0  0.0  0.0  0.0  0.0  0.0  0.0  0.0  0.0  ...  0.0  0.0   \n",
       "2  02fa521e1838  0.0  0.0  0.0  0.0  0.0  0.0  0.0  0.0  0.0  ...  0.0  0.0   \n",
       "3  040e15f562a2  0.0  0.0  0.0  0.0  0.0  0.0  0.0  0.0  0.0  ...  0.0  0.0   \n",
       "4  046e85c7cc7f  0.0  0.0  0.0  0.0  0.0  0.0  0.0  0.0  0.0  ...  0.0  0.0   \n",
       "\n",
       "    GB   GE   GF   GH   GI   GL  EJ_A  EJ_B  \n",
       "0  0.0  0.0  0.0  0.0  0.0  0.0     1     0  \n",
       "1  0.0  0.0  0.0  0.0  0.0  0.0     1     0  \n",
       "2  0.0  0.0  0.0  0.0  0.0  0.0     1     0  \n",
       "3  0.0  0.0  0.0  0.0  0.0  0.0     1     0  \n",
       "4  0.0  0.0  0.0  0.0  0.0  0.0     1     0  \n",
       "\n",
       "[5 rows x 59 columns]"
      ]
     },
     "execution_count": 44,
     "metadata": {},
     "output_type": "execute_result"
    }
   ],
   "source": [
    "X_test.head()"
   ]
  },
  {
   "cell_type": "code",
   "execution_count": 45,
   "metadata": {
    "execution": {
     "iopub.execute_input": "2023-07-19T02:49:38.922672Z",
     "iopub.status.busy": "2023-07-19T02:49:38.922006Z",
     "iopub.status.idle": "2023-07-19T02:49:38.932783Z",
     "shell.execute_reply": "2023-07-19T02:49:38.929314Z",
     "shell.execute_reply.started": "2023-07-19T02:49:38.922631Z"
    }
   },
   "outputs": [],
   "source": [
    "X_test_2 = df.drop(['Id'],axis=1)"
   ]
  },
  {
   "cell_type": "code",
   "execution_count": 46,
   "metadata": {
    "execution": {
     "iopub.execute_input": "2023-07-19T02:49:38.934614Z",
     "iopub.status.busy": "2023-07-19T02:49:38.934240Z",
     "iopub.status.idle": "2023-07-19T02:49:38.948465Z",
     "shell.execute_reply": "2023-07-19T02:49:38.947257Z",
     "shell.execute_reply.started": "2023-07-19T02:49:38.934584Z"
    }
   },
   "outputs": [
    {
     "data": {
      "text/plain": [
       "Index(['AB', 'AF', 'AH', 'AM', 'AR', 'AX', 'AY', 'AZ', 'BC', 'BD ', 'BN', 'BP',\n",
       "       'BQ', 'BR', 'BZ', 'CB', 'CC', 'CD ', 'CF', 'CH', 'CL', 'CR', 'CS', 'CU',\n",
       "       'CW ', 'DA', 'DE', 'DF', 'DH', 'DI', 'DL', 'DN', 'DU', 'DV', 'DY', 'EB',\n",
       "       'EE', 'EG', 'EH', 'EL', 'EP', 'EU', 'FC', 'FD ', 'FE', 'FI', 'FL', 'FR',\n",
       "       'FS', 'GB', 'GE', 'GF', 'GH', 'GI', 'GL', 'EJ_A', 'EJ_B'],\n",
       "      dtype='object')"
      ]
     },
     "execution_count": 46,
     "metadata": {},
     "output_type": "execute_result"
    }
   ],
   "source": [
    "X_test_2.columns.unique()"
   ]
  },
  {
   "cell_type": "markdown",
   "metadata": {},
   "source": []
  },
  {
   "cell_type": "code",
   "execution_count": 47,
   "metadata": {
    "execution": {
     "iopub.execute_input": "2023-07-19T02:49:38.952695Z",
     "iopub.status.busy": "2023-07-19T02:49:38.952223Z",
     "iopub.status.idle": "2023-07-19T02:49:38.964080Z",
     "shell.execute_reply": "2023-07-19T02:49:38.962804Z",
     "shell.execute_reply.started": "2023-07-19T02:49:38.952650Z"
    }
   },
   "outputs": [
    {
     "data": {
      "text/plain": [
       "Index(['AB_Imputed', 'AF_Imputed', 'AH_Imputed', 'AM_Imputed', 'AR_Imputed',\n",
       "       'AX_Imputed', 'AY_Imputed', 'AZ_Imputed', 'BC_Imputed', 'BD _Imputed',\n",
       "       'BN_Imputed', 'BP_Imputed', 'BQ_Imputed', 'BR_Imputed', 'BZ_Imputed',\n",
       "       'CB_Imputed', 'CC_Imputed', 'CD _Imputed', 'CF_Imputed', 'CH_Imputed',\n",
       "       'CL_Imputed', 'CR_Imputed', 'CS_Imputed', 'CU_Imputed', 'CW _Imputed',\n",
       "       'DA_Imputed', 'DE_Imputed', 'DF_Imputed', 'DH_Imputed', 'DI_Imputed',\n",
       "       'DL_Imputed', 'DN_Imputed', 'DU_Imputed', 'DV_Imputed', 'DY_Imputed',\n",
       "       'EB_Imputed', 'EE_Imputed', 'EG_Imputed', 'EH_Imputed', 'EL_Imputed',\n",
       "       'EP_Imputed', 'EU_Imputed', 'FC_Imputed', 'FD _Imputed', 'FE_Imputed',\n",
       "       'FI_Imputed', 'FL_Imputed', 'FR_Imputed', 'FS_Imputed', 'GB_Imputed',\n",
       "       'GE_Imputed', 'GF_Imputed', 'GH_Imputed', 'GI_Imputed', 'GL_Imputed',\n",
       "       'EJ_A_Imputed', 'EJ_B_Imputed'],\n",
       "      dtype='object')"
      ]
     },
     "execution_count": 47,
     "metadata": {},
     "output_type": "execute_result"
    }
   ],
   "source": [
    "X_train.columns.unique()"
   ]
  },
  {
   "cell_type": "code",
   "execution_count": 48,
   "metadata": {
    "execution": {
     "iopub.execute_input": "2023-07-19T02:49:38.967142Z",
     "iopub.status.busy": "2023-07-19T02:49:38.966674Z",
     "iopub.status.idle": "2023-07-19T02:49:39.007702Z",
     "shell.execute_reply": "2023-07-19T02:49:39.004627Z",
     "shell.execute_reply.started": "2023-07-19T02:49:38.967100Z"
    }
   },
   "outputs": [
    {
     "data": {
      "text/html": [
       "<div>\n",
       "<style scoped>\n",
       "    .dataframe tbody tr th:only-of-type {\n",
       "        vertical-align: middle;\n",
       "    }\n",
       "\n",
       "    .dataframe tbody tr th {\n",
       "        vertical-align: top;\n",
       "    }\n",
       "\n",
       "    .dataframe thead th {\n",
       "        text-align: right;\n",
       "    }\n",
       "</style>\n",
       "<table border=\"1\" class=\"dataframe\">\n",
       "  <thead>\n",
       "    <tr style=\"text-align: right;\">\n",
       "      <th></th>\n",
       "      <th>AB</th>\n",
       "      <th>AF</th>\n",
       "      <th>AH</th>\n",
       "      <th>AM</th>\n",
       "      <th>AR</th>\n",
       "      <th>AX</th>\n",
       "      <th>AY</th>\n",
       "      <th>AZ</th>\n",
       "      <th>BC</th>\n",
       "      <th>BD</th>\n",
       "      <th>...</th>\n",
       "      <th>FR</th>\n",
       "      <th>FS</th>\n",
       "      <th>GB</th>\n",
       "      <th>GE</th>\n",
       "      <th>GF</th>\n",
       "      <th>GH</th>\n",
       "      <th>GI</th>\n",
       "      <th>GL</th>\n",
       "      <th>EJ_A</th>\n",
       "      <th>EJ_B</th>\n",
       "    </tr>\n",
       "  </thead>\n",
       "  <tbody>\n",
       "    <tr>\n",
       "      <th>0</th>\n",
       "      <td>0.0</td>\n",
       "      <td>0.0</td>\n",
       "      <td>0.0</td>\n",
       "      <td>0.0</td>\n",
       "      <td>0.0</td>\n",
       "      <td>0.0</td>\n",
       "      <td>0.0</td>\n",
       "      <td>0.0</td>\n",
       "      <td>0.0</td>\n",
       "      <td>0.0</td>\n",
       "      <td>...</td>\n",
       "      <td>0.0</td>\n",
       "      <td>0.0</td>\n",
       "      <td>0.0</td>\n",
       "      <td>0.0</td>\n",
       "      <td>0.0</td>\n",
       "      <td>0.0</td>\n",
       "      <td>0.0</td>\n",
       "      <td>0.0</td>\n",
       "      <td>1</td>\n",
       "      <td>0</td>\n",
       "    </tr>\n",
       "    <tr>\n",
       "      <th>1</th>\n",
       "      <td>0.0</td>\n",
       "      <td>0.0</td>\n",
       "      <td>0.0</td>\n",
       "      <td>0.0</td>\n",
       "      <td>0.0</td>\n",
       "      <td>0.0</td>\n",
       "      <td>0.0</td>\n",
       "      <td>0.0</td>\n",
       "      <td>0.0</td>\n",
       "      <td>0.0</td>\n",
       "      <td>...</td>\n",
       "      <td>0.0</td>\n",
       "      <td>0.0</td>\n",
       "      <td>0.0</td>\n",
       "      <td>0.0</td>\n",
       "      <td>0.0</td>\n",
       "      <td>0.0</td>\n",
       "      <td>0.0</td>\n",
       "      <td>0.0</td>\n",
       "      <td>1</td>\n",
       "      <td>0</td>\n",
       "    </tr>\n",
       "    <tr>\n",
       "      <th>2</th>\n",
       "      <td>0.0</td>\n",
       "      <td>0.0</td>\n",
       "      <td>0.0</td>\n",
       "      <td>0.0</td>\n",
       "      <td>0.0</td>\n",
       "      <td>0.0</td>\n",
       "      <td>0.0</td>\n",
       "      <td>0.0</td>\n",
       "      <td>0.0</td>\n",
       "      <td>0.0</td>\n",
       "      <td>...</td>\n",
       "      <td>0.0</td>\n",
       "      <td>0.0</td>\n",
       "      <td>0.0</td>\n",
       "      <td>0.0</td>\n",
       "      <td>0.0</td>\n",
       "      <td>0.0</td>\n",
       "      <td>0.0</td>\n",
       "      <td>0.0</td>\n",
       "      <td>1</td>\n",
       "      <td>0</td>\n",
       "    </tr>\n",
       "    <tr>\n",
       "      <th>3</th>\n",
       "      <td>0.0</td>\n",
       "      <td>0.0</td>\n",
       "      <td>0.0</td>\n",
       "      <td>0.0</td>\n",
       "      <td>0.0</td>\n",
       "      <td>0.0</td>\n",
       "      <td>0.0</td>\n",
       "      <td>0.0</td>\n",
       "      <td>0.0</td>\n",
       "      <td>0.0</td>\n",
       "      <td>...</td>\n",
       "      <td>0.0</td>\n",
       "      <td>0.0</td>\n",
       "      <td>0.0</td>\n",
       "      <td>0.0</td>\n",
       "      <td>0.0</td>\n",
       "      <td>0.0</td>\n",
       "      <td>0.0</td>\n",
       "      <td>0.0</td>\n",
       "      <td>1</td>\n",
       "      <td>0</td>\n",
       "    </tr>\n",
       "    <tr>\n",
       "      <th>4</th>\n",
       "      <td>0.0</td>\n",
       "      <td>0.0</td>\n",
       "      <td>0.0</td>\n",
       "      <td>0.0</td>\n",
       "      <td>0.0</td>\n",
       "      <td>0.0</td>\n",
       "      <td>0.0</td>\n",
       "      <td>0.0</td>\n",
       "      <td>0.0</td>\n",
       "      <td>0.0</td>\n",
       "      <td>...</td>\n",
       "      <td>0.0</td>\n",
       "      <td>0.0</td>\n",
       "      <td>0.0</td>\n",
       "      <td>0.0</td>\n",
       "      <td>0.0</td>\n",
       "      <td>0.0</td>\n",
       "      <td>0.0</td>\n",
       "      <td>0.0</td>\n",
       "      <td>1</td>\n",
       "      <td>0</td>\n",
       "    </tr>\n",
       "  </tbody>\n",
       "</table>\n",
       "<p>5 rows × 57 columns</p>\n",
       "</div>"
      ],
      "text/plain": [
       "    AB   AF   AH   AM   AR   AX   AY   AZ   BC  BD   ...   FR   FS   GB   GE  \\\n",
       "0  0.0  0.0  0.0  0.0  0.0  0.0  0.0  0.0  0.0  0.0  ...  0.0  0.0  0.0  0.0   \n",
       "1  0.0  0.0  0.0  0.0  0.0  0.0  0.0  0.0  0.0  0.0  ...  0.0  0.0  0.0  0.0   \n",
       "2  0.0  0.0  0.0  0.0  0.0  0.0  0.0  0.0  0.0  0.0  ...  0.0  0.0  0.0  0.0   \n",
       "3  0.0  0.0  0.0  0.0  0.0  0.0  0.0  0.0  0.0  0.0  ...  0.0  0.0  0.0  0.0   \n",
       "4  0.0  0.0  0.0  0.0  0.0  0.0  0.0  0.0  0.0  0.0  ...  0.0  0.0  0.0  0.0   \n",
       "\n",
       "    GF   GH   GI   GL  EJ_A  EJ_B  \n",
       "0  0.0  0.0  0.0  0.0     1     0  \n",
       "1  0.0  0.0  0.0  0.0     1     0  \n",
       "2  0.0  0.0  0.0  0.0     1     0  \n",
       "3  0.0  0.0  0.0  0.0     1     0  \n",
       "4  0.0  0.0  0.0  0.0     1     0  \n",
       "\n",
       "[5 rows x 57 columns]"
      ]
     },
     "execution_count": 48,
     "metadata": {},
     "output_type": "execute_result"
    }
   ],
   "source": [
    "X_test_2.head()"
   ]
  },
  {
   "cell_type": "code",
   "execution_count": 49,
   "metadata": {
    "execution": {
     "iopub.execute_input": "2023-07-19T02:49:39.010678Z",
     "iopub.status.busy": "2023-07-19T02:49:39.010260Z",
     "iopub.status.idle": "2023-07-19T02:49:39.359306Z",
     "shell.execute_reply": "2023-07-19T02:49:39.358364Z",
     "shell.execute_reply.started": "2023-07-19T02:49:39.010647Z"
    }
   },
   "outputs": [],
   "source": [
    "from sklearn.impute import SimpleImputer\n",
    "imputer = SimpleImputer(strategy=\"mean\")\n",
    "\n",
    "\n",
    "for x in X_test_2.columns:\n",
    "    imputer = imputer.fit(X_test_2[[x]])\n",
    "    X_test_2[x + \"_Imputed\"] = imputer.transform(X_test_2[[x]])\n",
    "    X_test_2 = X_test_2.drop([x],axis=1)\n"
   ]
  },
  {
   "cell_type": "code",
   "execution_count": 50,
   "metadata": {
    "execution": {
     "iopub.execute_input": "2023-07-19T02:49:39.362198Z",
     "iopub.status.busy": "2023-07-19T02:49:39.361014Z",
     "iopub.status.idle": "2023-07-19T02:49:39.374191Z",
     "shell.execute_reply": "2023-07-19T02:49:39.372833Z",
     "shell.execute_reply.started": "2023-07-19T02:49:39.362155Z"
    }
   },
   "outputs": [],
   "source": [
    "y_pred = clf.predict(X_test_2)"
   ]
  },
  {
   "cell_type": "code",
   "execution_count": 51,
   "metadata": {
    "execution": {
     "iopub.execute_input": "2023-07-19T03:12:19.703257Z",
     "iopub.status.busy": "2023-07-19T03:12:19.702843Z",
     "iopub.status.idle": "2023-07-19T03:12:19.710407Z",
     "shell.execute_reply": "2023-07-19T03:12:19.709607Z",
     "shell.execute_reply.started": "2023-07-19T03:12:19.703227Z"
    }
   },
   "outputs": [
    {
     "data": {
      "text/plain": [
       "array([0, 0, 0, 0, 0])"
      ]
     },
     "execution_count": 51,
     "metadata": {},
     "output_type": "execute_result"
    }
   ],
   "source": [
    "y_pred"
   ]
  },
  {
   "cell_type": "code",
   "execution_count": 52,
   "metadata": {
    "execution": {
     "iopub.execute_input": "2023-07-19T03:12:36.667240Z",
     "iopub.status.busy": "2023-07-19T03:12:36.665907Z",
     "iopub.status.idle": "2023-07-19T03:12:36.716545Z",
     "shell.execute_reply": "2023-07-19T03:12:36.715143Z",
     "shell.execute_reply.started": "2023-07-19T03:12:36.667186Z"
    }
   },
   "outputs": [
    {
     "data": {
      "text/html": [
       "<div>\n",
       "<style scoped>\n",
       "    .dataframe tbody tr th:only-of-type {\n",
       "        vertical-align: middle;\n",
       "    }\n",
       "\n",
       "    .dataframe tbody tr th {\n",
       "        vertical-align: top;\n",
       "    }\n",
       "\n",
       "    .dataframe thead th {\n",
       "        text-align: right;\n",
       "    }\n",
       "</style>\n",
       "<table border=\"1\" class=\"dataframe\">\n",
       "  <thead>\n",
       "    <tr style=\"text-align: right;\">\n",
       "      <th></th>\n",
       "      <th>AB_Imputed</th>\n",
       "      <th>AF_Imputed</th>\n",
       "      <th>AH_Imputed</th>\n",
       "      <th>AM_Imputed</th>\n",
       "      <th>AR_Imputed</th>\n",
       "      <th>AX_Imputed</th>\n",
       "      <th>AY_Imputed</th>\n",
       "      <th>AZ_Imputed</th>\n",
       "      <th>BC_Imputed</th>\n",
       "      <th>BD _Imputed</th>\n",
       "      <th>...</th>\n",
       "      <th>FR_Imputed</th>\n",
       "      <th>FS_Imputed</th>\n",
       "      <th>GB_Imputed</th>\n",
       "      <th>GE_Imputed</th>\n",
       "      <th>GF_Imputed</th>\n",
       "      <th>GH_Imputed</th>\n",
       "      <th>GI_Imputed</th>\n",
       "      <th>GL_Imputed</th>\n",
       "      <th>EJ_A_Imputed</th>\n",
       "      <th>EJ_B_Imputed</th>\n",
       "    </tr>\n",
       "  </thead>\n",
       "  <tbody>\n",
       "    <tr>\n",
       "      <th>0</th>\n",
       "      <td>0.0</td>\n",
       "      <td>0.0</td>\n",
       "      <td>0.0</td>\n",
       "      <td>0.0</td>\n",
       "      <td>0.0</td>\n",
       "      <td>0.0</td>\n",
       "      <td>0.0</td>\n",
       "      <td>0.0</td>\n",
       "      <td>0.0</td>\n",
       "      <td>0.0</td>\n",
       "      <td>...</td>\n",
       "      <td>0.0</td>\n",
       "      <td>0.0</td>\n",
       "      <td>0.0</td>\n",
       "      <td>0.0</td>\n",
       "      <td>0.0</td>\n",
       "      <td>0.0</td>\n",
       "      <td>0.0</td>\n",
       "      <td>0.0</td>\n",
       "      <td>1.0</td>\n",
       "      <td>0.0</td>\n",
       "    </tr>\n",
       "    <tr>\n",
       "      <th>1</th>\n",
       "      <td>0.0</td>\n",
       "      <td>0.0</td>\n",
       "      <td>0.0</td>\n",
       "      <td>0.0</td>\n",
       "      <td>0.0</td>\n",
       "      <td>0.0</td>\n",
       "      <td>0.0</td>\n",
       "      <td>0.0</td>\n",
       "      <td>0.0</td>\n",
       "      <td>0.0</td>\n",
       "      <td>...</td>\n",
       "      <td>0.0</td>\n",
       "      <td>0.0</td>\n",
       "      <td>0.0</td>\n",
       "      <td>0.0</td>\n",
       "      <td>0.0</td>\n",
       "      <td>0.0</td>\n",
       "      <td>0.0</td>\n",
       "      <td>0.0</td>\n",
       "      <td>1.0</td>\n",
       "      <td>0.0</td>\n",
       "    </tr>\n",
       "    <tr>\n",
       "      <th>2</th>\n",
       "      <td>0.0</td>\n",
       "      <td>0.0</td>\n",
       "      <td>0.0</td>\n",
       "      <td>0.0</td>\n",
       "      <td>0.0</td>\n",
       "      <td>0.0</td>\n",
       "      <td>0.0</td>\n",
       "      <td>0.0</td>\n",
       "      <td>0.0</td>\n",
       "      <td>0.0</td>\n",
       "      <td>...</td>\n",
       "      <td>0.0</td>\n",
       "      <td>0.0</td>\n",
       "      <td>0.0</td>\n",
       "      <td>0.0</td>\n",
       "      <td>0.0</td>\n",
       "      <td>0.0</td>\n",
       "      <td>0.0</td>\n",
       "      <td>0.0</td>\n",
       "      <td>1.0</td>\n",
       "      <td>0.0</td>\n",
       "    </tr>\n",
       "    <tr>\n",
       "      <th>3</th>\n",
       "      <td>0.0</td>\n",
       "      <td>0.0</td>\n",
       "      <td>0.0</td>\n",
       "      <td>0.0</td>\n",
       "      <td>0.0</td>\n",
       "      <td>0.0</td>\n",
       "      <td>0.0</td>\n",
       "      <td>0.0</td>\n",
       "      <td>0.0</td>\n",
       "      <td>0.0</td>\n",
       "      <td>...</td>\n",
       "      <td>0.0</td>\n",
       "      <td>0.0</td>\n",
       "      <td>0.0</td>\n",
       "      <td>0.0</td>\n",
       "      <td>0.0</td>\n",
       "      <td>0.0</td>\n",
       "      <td>0.0</td>\n",
       "      <td>0.0</td>\n",
       "      <td>1.0</td>\n",
       "      <td>0.0</td>\n",
       "    </tr>\n",
       "    <tr>\n",
       "      <th>4</th>\n",
       "      <td>0.0</td>\n",
       "      <td>0.0</td>\n",
       "      <td>0.0</td>\n",
       "      <td>0.0</td>\n",
       "      <td>0.0</td>\n",
       "      <td>0.0</td>\n",
       "      <td>0.0</td>\n",
       "      <td>0.0</td>\n",
       "      <td>0.0</td>\n",
       "      <td>0.0</td>\n",
       "      <td>...</td>\n",
       "      <td>0.0</td>\n",
       "      <td>0.0</td>\n",
       "      <td>0.0</td>\n",
       "      <td>0.0</td>\n",
       "      <td>0.0</td>\n",
       "      <td>0.0</td>\n",
       "      <td>0.0</td>\n",
       "      <td>0.0</td>\n",
       "      <td>1.0</td>\n",
       "      <td>0.0</td>\n",
       "    </tr>\n",
       "  </tbody>\n",
       "</table>\n",
       "<p>5 rows × 57 columns</p>\n",
       "</div>"
      ],
      "text/plain": [
       "   AB_Imputed  AF_Imputed  AH_Imputed  AM_Imputed  AR_Imputed  AX_Imputed  \\\n",
       "0         0.0         0.0         0.0         0.0         0.0         0.0   \n",
       "1         0.0         0.0         0.0         0.0         0.0         0.0   \n",
       "2         0.0         0.0         0.0         0.0         0.0         0.0   \n",
       "3         0.0         0.0         0.0         0.0         0.0         0.0   \n",
       "4         0.0         0.0         0.0         0.0         0.0         0.0   \n",
       "\n",
       "   AY_Imputed  AZ_Imputed  BC_Imputed  BD _Imputed  ...  FR_Imputed  \\\n",
       "0         0.0         0.0         0.0          0.0  ...         0.0   \n",
       "1         0.0         0.0         0.0          0.0  ...         0.0   \n",
       "2         0.0         0.0         0.0          0.0  ...         0.0   \n",
       "3         0.0         0.0         0.0          0.0  ...         0.0   \n",
       "4         0.0         0.0         0.0          0.0  ...         0.0   \n",
       "\n",
       "   FS_Imputed  GB_Imputed  GE_Imputed  GF_Imputed  GH_Imputed  GI_Imputed  \\\n",
       "0         0.0         0.0         0.0         0.0         0.0         0.0   \n",
       "1         0.0         0.0         0.0         0.0         0.0         0.0   \n",
       "2         0.0         0.0         0.0         0.0         0.0         0.0   \n",
       "3         0.0         0.0         0.0         0.0         0.0         0.0   \n",
       "4         0.0         0.0         0.0         0.0         0.0         0.0   \n",
       "\n",
       "   GL_Imputed  EJ_A_Imputed  EJ_B_Imputed  \n",
       "0         0.0           1.0           0.0  \n",
       "1         0.0           1.0           0.0  \n",
       "2         0.0           1.0           0.0  \n",
       "3         0.0           1.0           0.0  \n",
       "4         0.0           1.0           0.0  \n",
       "\n",
       "[5 rows x 57 columns]"
      ]
     },
     "execution_count": 52,
     "metadata": {},
     "output_type": "execute_result"
    }
   ],
   "source": [
    "X_test_2"
   ]
  },
  {
   "cell_type": "code",
   "execution_count": 54,
   "metadata": {
    "execution": {
     "iopub.execute_input": "2023-07-19T03:18:03.789725Z",
     "iopub.status.busy": "2023-07-19T03:18:03.789300Z",
     "iopub.status.idle": "2023-07-19T03:18:03.805895Z",
     "shell.execute_reply": "2023-07-19T03:18:03.804520Z",
     "shell.execute_reply.started": "2023-07-19T03:18:03.789693Z"
    }
   },
   "outputs": [],
   "source": [
    "submission = pd.DataFrame(X_test['Id'], columns=['Id'])\n",
    "class_0 = []\n",
    "class_1 = []\n",
    "\n",
    "for x in y_pred:\n",
    "    if x == 1:\n",
    "        class_0.append(0)\n",
    "        class_1.append(1)\n",
    "    else:\n",
    "        class_0.append(1)\n",
    "        class_1.append(0)\n",
    "        \n",
    "submission['class_0'] = class_0\n",
    "submission['class_1'] = class_1\n",
    "submission.to_csv('C:/Users/Omotola/Desktop/MMA 869/submission.csv', index=False) "
   ]
  },
  {
   "cell_type": "code",
   "execution_count": null,
   "metadata": {},
   "outputs": [],
   "source": []
  }
 ],
 "metadata": {
  "kernelspec": {
   "display_name": "Python 3 (ipykernel)",
   "language": "python",
   "name": "python3"
  },
  "language_info": {
   "codemirror_mode": {
    "name": "ipython",
    "version": 3
   },
   "file_extension": ".py",
   "mimetype": "text/x-python",
   "name": "python",
   "nbconvert_exporter": "python",
   "pygments_lexer": "ipython3",
   "version": "3.9.13"
  }
 },
 "nbformat": 4,
 "nbformat_minor": 4
}
